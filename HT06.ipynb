{
 "cells": [
  {
   "cell_type": "markdown",
   "metadata": {},
   "source": [
    "# Hoja de trabajo 06\n",
    "#### Jose Daniel Gomez Cabrera 21429\n",
    "#### Carlos Daniel Estrada 20853"
   ]
  },
  {
   "cell_type": "code",
   "execution_count": 1,
   "metadata": {},
   "outputs": [],
   "source": [
    "import pandas as pd\n",
    "import numpy as np\n",
    "import matplotlib.pyplot as plt\n",
    "from sklearn.model_selection import train_test_split\n",
    "from sklearn.tree import DecisionTreeClassifier \n",
    "from sklearn import tree\n",
    "from sklearn.metrics import confusion_matrix, accuracy_score, precision_score, recall_score, f1_score\n",
    "import seaborn as sb\n",
    "from sklearn.compose import make_column_selector as selector\n",
    "import random\n",
    "from sklearn.preprocessing import OneHotEncoder\n",
    "from sklearn.compose import ColumnTransformer\n",
    "from sklearn.pipeline import Pipeline\n",
    "from sklearn.model_selection import GridSearchCV\n",
    "\n",
    "from sklearn import datasets\n",
    "from sklearn.linear_model import LogisticRegression\n",
    "from sklearn import metrics\n",
    "from sklearn.model_selection import cross_val_predict\n",
    "import statsmodels.api as sm\n",
    "from sklearn.metrics import classification_report\n",
    "from sklearn.metrics import roc_auc_score\n",
    "from sklearn.metrics import roc_curve\n",
    "from sklearn.model_selection import RepeatedStratifiedKFold\n",
    "from sklearn.linear_model import RidgeClassifier\n",
    "\n",
    "%matplotlib inline\n",
    "plt.rcParams['figure.figsize'] = (15, 9)\n",
    "plt.style.use('ggplot')"
   ]
  },
  {
   "cell_type": "code",
   "execution_count": 2,
   "metadata": {},
   "outputs": [
    {
     "data": {
      "text/html": [
       "<div>\n",
       "<style scoped>\n",
       "    .dataframe tbody tr th:only-of-type {\n",
       "        vertical-align: middle;\n",
       "    }\n",
       "\n",
       "    .dataframe tbody tr th {\n",
       "        vertical-align: top;\n",
       "    }\n",
       "\n",
       "    .dataframe thead th {\n",
       "        text-align: right;\n",
       "    }\n",
       "</style>\n",
       "<table border=\"1\" class=\"dataframe\">\n",
       "  <thead>\n",
       "    <tr style=\"text-align: right;\">\n",
       "      <th></th>\n",
       "      <th>Id</th>\n",
       "      <th>MSSubClass</th>\n",
       "      <th>MSZoning</th>\n",
       "      <th>LotFrontage</th>\n",
       "      <th>LotArea</th>\n",
       "      <th>Street</th>\n",
       "      <th>Alley</th>\n",
       "      <th>LotShape</th>\n",
       "      <th>LandContour</th>\n",
       "      <th>Utilities</th>\n",
       "      <th>...</th>\n",
       "      <th>PoolArea</th>\n",
       "      <th>PoolQC</th>\n",
       "      <th>Fence</th>\n",
       "      <th>MiscFeature</th>\n",
       "      <th>MiscVal</th>\n",
       "      <th>MoSold</th>\n",
       "      <th>YrSold</th>\n",
       "      <th>SaleType</th>\n",
       "      <th>SaleCondition</th>\n",
       "      <th>SalePrice</th>\n",
       "    </tr>\n",
       "  </thead>\n",
       "  <tbody>\n",
       "    <tr>\n",
       "      <th>0</th>\n",
       "      <td>1</td>\n",
       "      <td>60</td>\n",
       "      <td>RL</td>\n",
       "      <td>65.0</td>\n",
       "      <td>8450</td>\n",
       "      <td>Pave</td>\n",
       "      <td>NaN</td>\n",
       "      <td>Reg</td>\n",
       "      <td>Lvl</td>\n",
       "      <td>AllPub</td>\n",
       "      <td>...</td>\n",
       "      <td>0</td>\n",
       "      <td>NaN</td>\n",
       "      <td>NaN</td>\n",
       "      <td>NaN</td>\n",
       "      <td>0</td>\n",
       "      <td>2</td>\n",
       "      <td>2008</td>\n",
       "      <td>WD</td>\n",
       "      <td>Normal</td>\n",
       "      <td>208500</td>\n",
       "    </tr>\n",
       "    <tr>\n",
       "      <th>1</th>\n",
       "      <td>2</td>\n",
       "      <td>20</td>\n",
       "      <td>RL</td>\n",
       "      <td>80.0</td>\n",
       "      <td>9600</td>\n",
       "      <td>Pave</td>\n",
       "      <td>NaN</td>\n",
       "      <td>Reg</td>\n",
       "      <td>Lvl</td>\n",
       "      <td>AllPub</td>\n",
       "      <td>...</td>\n",
       "      <td>0</td>\n",
       "      <td>NaN</td>\n",
       "      <td>NaN</td>\n",
       "      <td>NaN</td>\n",
       "      <td>0</td>\n",
       "      <td>5</td>\n",
       "      <td>2007</td>\n",
       "      <td>WD</td>\n",
       "      <td>Normal</td>\n",
       "      <td>181500</td>\n",
       "    </tr>\n",
       "    <tr>\n",
       "      <th>2</th>\n",
       "      <td>3</td>\n",
       "      <td>60</td>\n",
       "      <td>RL</td>\n",
       "      <td>68.0</td>\n",
       "      <td>11250</td>\n",
       "      <td>Pave</td>\n",
       "      <td>NaN</td>\n",
       "      <td>IR1</td>\n",
       "      <td>Lvl</td>\n",
       "      <td>AllPub</td>\n",
       "      <td>...</td>\n",
       "      <td>0</td>\n",
       "      <td>NaN</td>\n",
       "      <td>NaN</td>\n",
       "      <td>NaN</td>\n",
       "      <td>0</td>\n",
       "      <td>9</td>\n",
       "      <td>2008</td>\n",
       "      <td>WD</td>\n",
       "      <td>Normal</td>\n",
       "      <td>223500</td>\n",
       "    </tr>\n",
       "    <tr>\n",
       "      <th>3</th>\n",
       "      <td>4</td>\n",
       "      <td>70</td>\n",
       "      <td>RL</td>\n",
       "      <td>60.0</td>\n",
       "      <td>9550</td>\n",
       "      <td>Pave</td>\n",
       "      <td>NaN</td>\n",
       "      <td>IR1</td>\n",
       "      <td>Lvl</td>\n",
       "      <td>AllPub</td>\n",
       "      <td>...</td>\n",
       "      <td>0</td>\n",
       "      <td>NaN</td>\n",
       "      <td>NaN</td>\n",
       "      <td>NaN</td>\n",
       "      <td>0</td>\n",
       "      <td>2</td>\n",
       "      <td>2006</td>\n",
       "      <td>WD</td>\n",
       "      <td>Abnorml</td>\n",
       "      <td>140000</td>\n",
       "    </tr>\n",
       "    <tr>\n",
       "      <th>4</th>\n",
       "      <td>5</td>\n",
       "      <td>60</td>\n",
       "      <td>RL</td>\n",
       "      <td>84.0</td>\n",
       "      <td>14260</td>\n",
       "      <td>Pave</td>\n",
       "      <td>NaN</td>\n",
       "      <td>IR1</td>\n",
       "      <td>Lvl</td>\n",
       "      <td>AllPub</td>\n",
       "      <td>...</td>\n",
       "      <td>0</td>\n",
       "      <td>NaN</td>\n",
       "      <td>NaN</td>\n",
       "      <td>NaN</td>\n",
       "      <td>0</td>\n",
       "      <td>12</td>\n",
       "      <td>2008</td>\n",
       "      <td>WD</td>\n",
       "      <td>Normal</td>\n",
       "      <td>250000</td>\n",
       "    </tr>\n",
       "  </tbody>\n",
       "</table>\n",
       "<p>5 rows × 81 columns</p>\n",
       "</div>"
      ],
      "text/plain": [
       "   Id  MSSubClass MSZoning  LotFrontage  LotArea Street Alley LotShape  \\\n",
       "0   1          60       RL         65.0     8450   Pave   NaN      Reg   \n",
       "1   2          20       RL         80.0     9600   Pave   NaN      Reg   \n",
       "2   3          60       RL         68.0    11250   Pave   NaN      IR1   \n",
       "3   4          70       RL         60.0     9550   Pave   NaN      IR1   \n",
       "4   5          60       RL         84.0    14260   Pave   NaN      IR1   \n",
       "\n",
       "  LandContour Utilities  ... PoolArea PoolQC Fence MiscFeature MiscVal MoSold  \\\n",
       "0         Lvl    AllPub  ...        0    NaN   NaN         NaN       0      2   \n",
       "1         Lvl    AllPub  ...        0    NaN   NaN         NaN       0      5   \n",
       "2         Lvl    AllPub  ...        0    NaN   NaN         NaN       0      9   \n",
       "3         Lvl    AllPub  ...        0    NaN   NaN         NaN       0      2   \n",
       "4         Lvl    AllPub  ...        0    NaN   NaN         NaN       0     12   \n",
       "\n",
       "  YrSold  SaleType  SaleCondition  SalePrice  \n",
       "0   2008        WD         Normal     208500  \n",
       "1   2007        WD         Normal     181500  \n",
       "2   2008        WD         Normal     223500  \n",
       "3   2006        WD        Abnorml     140000  \n",
       "4   2008        WD         Normal     250000  \n",
       "\n",
       "[5 rows x 81 columns]"
      ]
     },
     "execution_count": 2,
     "metadata": {},
     "output_type": "execute_result"
    }
   ],
   "source": [
    "houses = pd.read_csv('train.csv')\n",
    "houses.head()"
   ]
  },
  {
   "cell_type": "markdown",
   "metadata": {},
   "source": [
    "1. Cree una variable <strong>dicotómica</strong> por cada una de las categorías de la variable respuesta categórica que creó en hojas anteriores. Debería tener 3 variables dicotómicas (valores 0 y 1) una que diga si la vivienda es cara o no, media o no, económica o no."
   ]
  },
  {
   "cell_type": "code",
   "execution_count": 3,
   "metadata": {},
   "outputs": [
    {
     "name": "stdout",
     "output_type": "stream",
     "text": [
      "      Economic  Intermediate  Expensive\n",
      "0        False         False       True\n",
      "1        False          True      False\n",
      "2        False         False       True\n",
      "3        False          True      False\n",
      "4        False         False       True\n",
      "...        ...           ...        ...\n",
      "1455     False          True      False\n",
      "1456     False         False       True\n",
      "1457     False         False       True\n",
      "1458     False          True      False\n",
      "1459     False          True      False\n",
      "\n",
      "[1460 rows x 3 columns]\n"
     ]
    }
   ],
   "source": [
    "houses = pd.read_csv('train.csv')\n",
    "\n",
    "# Define categories\n",
    "categories = ['Economic', 'Intermediate', 'Expensive']\n",
    "\n",
    "# Create a new column with the categories\n",
    "houses['PriceCategory'] = pd.qcut(houses['SalePrice'], q=len(categories), labels=categories)\n",
    "houses['PriceCategory'] = houses['PriceCategory'].astype('category')\n",
    "\n",
    "# Create dummy variables\n",
    "dummies = pd.get_dummies(houses['PriceCategory'])\n",
    "\n",
    "# Join the dummy variables to the main dataframe\n",
    "houses = pd.concat([houses, dummies], axis=1)\n",
    "\n",
    "# Now you have three dichotomous variables: 'Economic', 'Intermediate', and 'Expensive'\n",
    "print(houses[['Economic', 'Intermediate', 'Expensive']])"
   ]
  },
  {
   "cell_type": "markdown",
   "metadata": {},
   "source": [
    "2. Use los mismos conjuntos de entrenamiento y prueba que utilizó en las hojas anteriores."
   ]
  },
  {
   "cell_type": "code",
   "execution_count": 4,
   "metadata": {},
   "outputs": [
    {
     "data": {
      "image/png": "[encoded data removed]",
      "text/plain": [
       "<Figure size 1500x1000 with 1 Axes>"
      ]
     },
     "metadata": {},
     "output_type": "display_data"
    }
   ],
   "source": [
    "y = houses.copy().pop('PriceCategory')\n",
    "X = houses\n",
    "\n",
    "# Convertir las variables categóricas a forma numerica\n",
    "X_dummy = pd.get_dummies(X)\n",
    "\n",
    "# Dividir tus datos y entrenar modelo\n",
    "X_train, X_test, y_train, y_test = train_test_split(X_dummy, y, test_size=0.2,  random_state=42)\n",
    "\n",
    "# Instanciar el arbol y su profundidad\n",
    "clf = DecisionTreeClassifier(max_depth=6, random_state=42)\n",
    "# Entrenar arbol de acuerdo a los datos de entrenamiento\n",
    "clf.fit(X_train, y_train)\n",
    "\n",
    "# Graficar arbol de clasificacion\n",
    "plt.figure(figsize=(15, 10))\n",
    "tree.plot_tree(clf, feature_names=X_dummy.columns, class_names=['0','1','2'], filled=True)\n",
    "plt.show()"
   ]
  },
  {
   "cell_type": "code",
   "execution_count": 5,
   "metadata": {},
   "outputs": [
    {
     "name": "stdout",
     "output_type": "stream",
     "text": [
      "Confussion matrix: \n",
      "[[110   0   0]\n",
      " [  0  94   0]\n",
      " [  0   0  88]]\n",
      "\n",
      "Accuracy: 1.0\n",
      "Precision: [1. 1. 1.]\n",
      "Recall: [1. 1. 1.]\n",
      "F1 score: [1. 1. 1.]\n"
     ]
    },
    {
     "data": {
      "image/png": "[encoded data removed]",
      "text/plain": [
       "<Figure size 1500x900 with 2 Axes>"
      ]
     },
     "metadata": {},
     "output_type": "display_data"
    }
   ],
   "source": [
    "# Predecir etiquetas para los datos de prueba\n",
    "y_pred = clf.predict(X_test)\n",
    "\n",
    "# Instanciar matriz de confusión\n",
    "confussionMatrix = confusion_matrix(y_test, y_pred)\n",
    "\n",
    "# Calcular metricas de evaluacion de la matriz de confusion\n",
    "accuracy = accuracy_score(y_test, y_pred)\n",
    "precision = precision_score(y_test, y_pred, average=None)\n",
    "recall = recall_score(y_test, y_pred, average=None)\n",
    "f1 = f1_score(y_test, y_pred, average=None)\n",
    "\n",
    "# Mostrar resultados\n",
    "print(f\"Confussion matrix: \\n{confussionMatrix}\\n\")\n",
    "print(f\"Accuracy: {format(accuracy)}\")\n",
    "print(f\"Precision: {format(precision)}\")\n",
    "print(f\"Recall: {format(recall)}\")\n",
    "print(f\"F1 score: {format(f1)}\")\n",
    "\n",
    "# Visualizar la matriz de confusión\n",
    "sb.heatmap(\n",
    "  confussionMatrix,\n",
    "  annot=True,\n",
    "  cmap=\"Blues\",\n",
    "  fmt=\"d\",\n",
    "  xticklabels=['Economic', 'Intermediate', 'Expensive'],\n",
    "  yticklabels=['Economic', 'Intermediate', 'Expensive']\n",
    ")\n",
    "plt.title('Clasification tree confussion matrix')\n",
    "plt.xlabel('Predicted Label')\n",
    "plt.ylabel('True Label')\n",
    "plt.show()"
   ]
  },
  {
   "cell_type": "markdown",
   "metadata": {},
   "source": [
    "##### Validación cruzada"
   ]
  },
  {
   "cell_type": "code",
   "execution_count": 6,
   "metadata": {},
   "outputs": [
    {
     "name": "stdout",
     "output_type": "stream",
     "text": [
      "Crossover model\n",
      "Predicted: Economic, Real: Intermediate\n",
      "Predicted: Expensive, Real: Expensive\n",
      "Predicted: Intermediate, Real: Economic\n",
      "Predicted: Intermediate, Real: Intermediate\n",
      "Predicted: Expensive, Real: Expensive\n",
      "Predicted: Economic, Real: Economic\n",
      "Predicted: Expensive, Real: Expensive\n",
      "Predicted: Intermediate, Real: Intermediate\n",
      "Predicted: Economic, Real: Economic\n",
      "Predicted: Economic, Real: Economic\n",
      "Predicted: Intermediate, Real: Intermediate\n",
      "Predicted: Economic, Real: Economic\n",
      "Predicted: Expensive, Real: Economic\n",
      "Predicted: Expensive, Real: Expensive\n",
      "Predicted: Intermediate, Real: Intermediate\n",
      "Predicted: Economic, Real: Economic\n",
      "Predicted: Expensive, Real: Intermediate\n",
      "Predicted: Economic, Real: Economic\n",
      "Predicted: Intermediate, Real: Economic\n",
      "Predicted: Expensive, Real: Expensive\n",
      "Predicted: Intermediate, Real: Intermediate\n",
      "Predicted: Expensive, Real: Expensive\n",
      "Predicted: Expensive, Real: Intermediate\n",
      "Predicted: Economic, Real: Economic\n",
      "Predicted: Expensive, Real: Expensive\n",
      "Predicted: Expensive, Real: Intermediate\n",
      "Predicted: Expensive, Real: Intermediate\n",
      "Predicted: Economic, Real: Intermediate\n",
      "Predicted: Intermediate, Real: Intermediate\n",
      "Predicted: Expensive, Real: Expensive\n",
      "Predicted: Economic, Real: Economic\n",
      "Predicted: Expensive, Real: Expensive\n",
      "Predicted: Intermediate, Real: Expensive\n",
      "Predicted: Economic, Real: Economic\n",
      "Predicted: Expensive, Real: Expensive\n",
      "Predicted: Intermediate, Real: Intermediate\n",
      "Predicted: Economic, Real: Economic\n",
      "Predicted: Expensive, Real: Expensive\n",
      "Predicted: Expensive, Real: Expensive\n",
      "Predicted: Economic, Real: Economic\n",
      "Predicted: Intermediate, Real: Economic\n",
      "Predicted: Expensive, Real: Expensive\n",
      "Predicted: Economic, Real: Economic\n",
      "Predicted: Expensive, Real: Expensive\n",
      "Predicted: Economic, Real: Economic\n",
      "Predicted: Economic, Real: Economic\n",
      "Predicted: Economic, Real: Economic\n",
      "Predicted: Economic, Real: Economic\n",
      "Predicted: Expensive, Real: Expensive\n",
      "Predicted: Economic, Real: Intermediate\n",
      "Predicted: Economic, Real: Economic\n",
      "Predicted: Intermediate, Real: Expensive\n",
      "Predicted: Intermediate, Real: Economic\n",
      "Predicted: Expensive, Real: Expensive\n",
      "Predicted: Expensive, Real: Intermediate\n",
      "Predicted: Expensive, Real: Expensive\n",
      "Predicted: Expensive, Real: Expensive\n",
      "Predicted: Economic, Real: Intermediate\n",
      "Predicted: Intermediate, Real: Economic\n",
      "Predicted: Intermediate, Real: Economic\n",
      "Predicted: Economic, Real: Economic\n",
      "Predicted: Economic, Real: Intermediate\n",
      "Predicted: Expensive, Real: Expensive\n",
      "Predicted: Expensive, Real: Expensive\n",
      "Predicted: Expensive, Real: Expensive\n",
      "Predicted: Intermediate, Real: Expensive\n",
      "Predicted: Economic, Real: Economic\n",
      "Predicted: Expensive, Real: Expensive\n",
      "Predicted: Economic, Real: Economic\n",
      "Predicted: Intermediate, Real: Intermediate\n",
      "Predicted: Economic, Real: Economic\n",
      "Predicted: Intermediate, Real: Economic\n",
      "Predicted: Economic, Real: Economic\n",
      "Predicted: Economic, Real: Economic\n",
      "Predicted: Expensive, Real: Expensive\n",
      "Predicted: Intermediate, Real: Intermediate\n",
      "Predicted: Expensive, Real: Expensive\n",
      "Predicted: Expensive, Real: Expensive\n",
      "Predicted: Economic, Real: Intermediate\n",
      "Predicted: Economic, Real: Economic\n",
      "Predicted: Economic, Real: Economic\n",
      "Predicted: Economic, Real: Economic\n",
      "Predicted: Economic, Real: Economic\n",
      "Predicted: Economic, Real: Economic\n",
      "Predicted: Intermediate, Real: Intermediate\n",
      "Predicted: Economic, Real: Economic\n",
      "Predicted: Expensive, Real: Expensive\n",
      "Predicted: Intermediate, Real: Intermediate\n",
      "Predicted: Expensive, Real: Intermediate\n",
      "Predicted: Expensive, Real: Intermediate\n",
      "Predicted: Economic, Real: Intermediate\n",
      "Predicted: Economic, Real: Intermediate\n",
      "Predicted: Economic, Real: Economic\n",
      "Predicted: Expensive, Real: Expensive\n",
      "Predicted: Economic, Real: Economic\n",
      "Predicted: Expensive, Real: Intermediate\n",
      "Predicted: Expensive, Real: Expensive\n",
      "Predicted: Expensive, Real: Intermediate\n",
      "Predicted: Expensive, Real: Expensive\n",
      "Predicted: Expensive, Real: Expensive\n",
      "Predicted: Intermediate, Real: Intermediate\n",
      "Predicted: Expensive, Real: Expensive\n",
      "Predicted: Intermediate, Real: Expensive\n",
      "Predicted: Economic, Real: Economic\n",
      "Predicted: Intermediate, Real: Expensive\n",
      "Predicted: Intermediate, Real: Intermediate\n",
      "Predicted: Economic, Real: Intermediate\n",
      "Predicted: Expensive, Real: Expensive\n",
      "Predicted: Economic, Real: Intermediate\n",
      "Predicted: Intermediate, Real: Economic\n",
      "Predicted: Expensive, Real: Economic\n",
      "Predicted: Economic, Real: Economic\n",
      "Predicted: Economic, Real: Economic\n",
      "Predicted: Economic, Real: Economic\n",
      "Predicted: Expensive, Real: Expensive\n",
      "Predicted: Intermediate, Real: Economic\n",
      "Predicted: Economic, Real: Economic\n",
      "Predicted: Economic, Real: Economic\n",
      "Predicted: Economic, Real: Economic\n",
      "Predicted: Expensive, Real: Expensive\n",
      "Predicted: Economic, Real: Economic\n",
      "Predicted: Expensive, Real: Intermediate\n",
      "Predicted: Intermediate, Real: Intermediate\n",
      "Predicted: Intermediate, Real: Expensive\n",
      "Predicted: Intermediate, Real: Intermediate\n",
      "Predicted: Economic, Real: Economic\n",
      "Predicted: Expensive, Real: Expensive\n",
      "Predicted: Economic, Real: Economic\n",
      "Predicted: Economic, Real: Intermediate\n",
      "Predicted: Intermediate, Real: Intermediate\n",
      "Predicted: Expensive, Real: Intermediate\n",
      "Predicted: Expensive, Real: Expensive\n",
      "Predicted: Economic, Real: Expensive\n",
      "Predicted: Economic, Real: Economic\n",
      "Predicted: Economic, Real: Economic\n",
      "Predicted: Expensive, Real: Expensive\n",
      "Predicted: Expensive, Real: Expensive\n",
      "Predicted: Economic, Real: Economic\n",
      "Predicted: Expensive, Real: Expensive\n",
      "Predicted: Expensive, Real: Expensive\n",
      "Predicted: Expensive, Real: Expensive\n",
      "Predicted: Economic, Real: Economic\n",
      "Predicted: Expensive, Real: Intermediate\n",
      "Predicted: Intermediate, Real: Economic\n",
      "Predicted: Economic, Real: Intermediate\n",
      "Predicted: Intermediate, Real: Economic\n",
      "Predicted: Expensive, Real: Expensive\n",
      "Predicted: Expensive, Real: Intermediate\n",
      "Predicted: Economic, Real: Economic\n",
      "Predicted: Economic, Real: Economic\n",
      "Predicted: Intermediate, Real: Economic\n",
      "Predicted: Intermediate, Real: Intermediate\n",
      "Predicted: Expensive, Real: Expensive\n",
      "Predicted: Economic, Real: Intermediate\n",
      "Predicted: Intermediate, Real: Economic\n",
      "Predicted: Economic, Real: Economic\n",
      "Predicted: Economic, Real: Economic\n",
      "Predicted: Intermediate, Real: Intermediate\n",
      "Predicted: Economic, Real: Economic\n",
      "Predicted: Intermediate, Real: Economic\n",
      "Predicted: Expensive, Real: Intermediate\n",
      "Predicted: Economic, Real: Intermediate\n",
      "Predicted: Expensive, Real: Expensive\n",
      "Predicted: Intermediate, Real: Intermediate\n",
      "Predicted: Economic, Real: Economic\n",
      "Predicted: Economic, Real: Intermediate\n",
      "Predicted: Expensive, Real: Expensive\n",
      "Predicted: Expensive, Real: Expensive\n",
      "Predicted: Expensive, Real: Expensive\n",
      "Predicted: Intermediate, Real: Expensive\n",
      "Predicted: Expensive, Real: Expensive\n",
      "Predicted: Economic, Real: Economic\n",
      "Predicted: Economic, Real: Economic\n",
      "Predicted: Intermediate, Real: Intermediate\n",
      "Predicted: Expensive, Real: Expensive\n",
      "Predicted: Intermediate, Real: Economic\n",
      "Predicted: Intermediate, Real: Economic\n",
      "Predicted: Expensive, Real: Intermediate\n",
      "Predicted: Economic, Real: Economic\n",
      "Predicted: Expensive, Real: Intermediate\n",
      "Predicted: Intermediate, Real: Intermediate\n",
      "Predicted: Expensive, Real: Economic\n",
      "Predicted: Economic, Real: Economic\n",
      "Predicted: Intermediate, Real: Economic\n",
      "Predicted: Expensive, Real: Expensive\n",
      "Predicted: Economic, Real: Intermediate\n",
      "Predicted: Expensive, Real: Expensive\n",
      "Predicted: Expensive, Real: Expensive\n",
      "Predicted: Expensive, Real: Expensive\n",
      "Predicted: Economic, Real: Economic\n",
      "Predicted: Economic, Real: Economic\n",
      "Predicted: Economic, Real: Economic\n",
      "Predicted: Expensive, Real: Intermediate\n",
      "Predicted: Intermediate, Real: Intermediate\n",
      "Predicted: Expensive, Real: Expensive\n",
      "Predicted: Economic, Real: Expensive\n",
      "Predicted: Expensive, Real: Expensive\n",
      "Predicted: Economic, Real: Economic\n",
      "Predicted: Expensive, Real: Intermediate\n",
      "Predicted: Intermediate, Real: Intermediate\n",
      "Predicted: Intermediate, Real: Expensive\n",
      "Predicted: Intermediate, Real: Intermediate\n",
      "Predicted: Economic, Real: Intermediate\n",
      "Predicted: Expensive, Real: Expensive\n",
      "Predicted: Expensive, Real: Intermediate\n",
      "Predicted: Economic, Real: Economic\n",
      "Predicted: Expensive, Real: Expensive\n",
      "Predicted: Economic, Real: Economic\n",
      "Predicted: Intermediate, Real: Intermediate\n",
      "Predicted: Economic, Real: Economic\n",
      "Predicted: Expensive, Real: Expensive\n",
      "Predicted: Intermediate, Real: Intermediate\n",
      "Predicted: Economic, Real: Economic\n",
      "Predicted: Economic, Real: Intermediate\n",
      "Predicted: Intermediate, Real: Expensive\n",
      "Predicted: Expensive, Real: Expensive\n",
      "Predicted: Expensive, Real: Expensive\n",
      "Predicted: Intermediate, Real: Intermediate\n",
      "Predicted: Economic, Real: Economic\n",
      "Predicted: Economic, Real: Economic\n",
      "Predicted: Intermediate, Real: Intermediate\n",
      "Predicted: Expensive, Real: Expensive\n",
      "Predicted: Intermediate, Real: Expensive\n",
      "Predicted: Economic, Real: Economic\n",
      "Predicted: Expensive, Real: Expensive\n",
      "Predicted: Economic, Real: Intermediate\n",
      "Predicted: Economic, Real: Economic\n",
      "Predicted: Economic, Real: Economic\n",
      "Predicted: Economic, Real: Intermediate\n",
      "Predicted: Economic, Real: Economic\n",
      "Predicted: Economic, Real: Economic\n",
      "Predicted: Intermediate, Real: Intermediate\n",
      "Predicted: Economic, Real: Economic\n",
      "Predicted: Economic, Real: Economic\n",
      "Predicted: Expensive, Real: Expensive\n",
      "Predicted: Economic, Real: Intermediate\n",
      "Predicted: Expensive, Real: Expensive\n",
      "Predicted: Economic, Real: Intermediate\n",
      "Predicted: Expensive, Real: Expensive\n",
      "Predicted: Intermediate, Real: Intermediate\n",
      "Predicted: Economic, Real: Economic\n",
      "Predicted: Expensive, Real: Expensive\n",
      "Predicted: Expensive, Real: Expensive\n",
      "Predicted: Expensive, Real: Expensive\n",
      "Predicted: Expensive, Real: Intermediate\n",
      "Predicted: Economic, Real: Economic\n",
      "Predicted: Intermediate, Real: Intermediate\n",
      "Predicted: Intermediate, Real: Intermediate\n",
      "Predicted: Intermediate, Real: Economic\n",
      "Predicted: Economic, Real: Economic\n",
      "Predicted: Expensive, Real: Expensive\n",
      "Predicted: Expensive, Real: Intermediate\n",
      "Predicted: Economic, Real: Intermediate\n",
      "Predicted: Economic, Real: Economic\n",
      "Predicted: Intermediate, Real: Intermediate\n",
      "Predicted: Intermediate, Real: Economic\n",
      "Predicted: Economic, Real: Economic\n",
      "Predicted: Economic, Real: Economic\n",
      "Predicted: Expensive, Real: Intermediate\n",
      "Predicted: Expensive, Real: Expensive\n",
      "Predicted: Expensive, Real: Expensive\n",
      "Predicted: Expensive, Real: Intermediate\n",
      "Predicted: Economic, Real: Economic\n",
      "Predicted: Expensive, Real: Expensive\n",
      "Predicted: Expensive, Real: Expensive\n",
      "Predicted: Expensive, Real: Expensive\n",
      "Predicted: Economic, Real: Intermediate\n",
      "Predicted: Expensive, Real: Intermediate\n",
      "Predicted: Intermediate, Real: Economic\n",
      "Predicted: Intermediate, Real: Intermediate\n",
      "Predicted: Expensive, Real: Expensive\n",
      "Predicted: Expensive, Real: Intermediate\n",
      "Predicted: Expensive, Real: Expensive\n",
      "Predicted: Economic, Real: Economic\n",
      "Predicted: Economic, Real: Economic\n",
      "Predicted: Economic, Real: Intermediate\n",
      "Predicted: Expensive, Real: Economic\n",
      "Predicted: Expensive, Real: Expensive\n",
      "Predicted: Intermediate, Real: Intermediate\n",
      "Predicted: Intermediate, Real: Intermediate\n",
      "Predicted: Expensive, Real: Expensive\n",
      "Predicted: Economic, Real: Economic\n",
      "Predicted: Expensive, Real: Expensive\n",
      "Predicted: Expensive, Real: Economic\n",
      "Predicted: Expensive, Real: Expensive\n",
      "Predicted: Intermediate, Real: Intermediate\n",
      "Predicted: Expensive, Real: Expensive\n",
      "Predicted: Economic, Real: Economic\n",
      "Predicted: Expensive, Real: Expensive\n",
      "Predicted: Expensive, Real: Intermediate\n",
      "Predicted: Intermediate, Real: Economic\n",
      "Predicted: Economic, Real: Economic\n"
     ]
    },
    {
     "name": "stderr",
     "output_type": "stream",
     "text": [
      "c:\\Users\\halm9\\AppData\\Local\\Programs\\Python\\Python312\\Lib\\site-packages\\sklearn\\model_selection\\_search.py:1051: UserWarning: One or more of the test scores are non-finite: [nan nan nan nan nan nan nan nan]\n",
      "  warnings.warn(\n"
     ]
    }
   ],
   "source": [
    "random.seed(123)\n",
    "\n",
    "X_train, X_test, y_train, y_test = train_test_split(X, y, test_size=0.2,  random_state=42)\n",
    "\n",
    "numerical_columns_selector = selector(dtype_exclude=object)\n",
    "categorical_columns_selector = selector(dtype_include=object)\n",
    "\n",
    "numerical_columns = numerical_columns_selector(houses)\n",
    "categorical_columns = categorical_columns_selector(houses)\n",
    "\n",
    "categorical_preprocessor = OneHotEncoder(handle_unknown=\"ignore\")\n",
    "preprocessor = ColumnTransformer([\n",
    "    ('one-hot-encoder', categorical_preprocessor, categorical_columns)])\n",
    "\n",
    "param_grid = {\"max_depth\": np.arange(2, 10, 1)}\n",
    "pipeline = Pipeline(\n",
    "    [('preprocessor',preprocessor),\n",
    "    ('regressor',DecisionTreeClassifier())])\n",
    "params = [{\n",
    "    \"regressor__max_depth\": np.arange(2, 10, 1)\n",
    "}]\n",
    "crossoverModel = GridSearchCV(pipeline, param_grid=params, n_jobs=2, cv=5,scoring=\"neg_root_mean_squared_error\")\n",
    "crossoverModel.fit(X_train,y_train)\n",
    "crossoverModel.best_params_\n",
    "\n",
    "crossoverModel_pred = crossoverModel.predict(X_test)\n",
    "print(\"Crossover model\")\n",
    "\n",
    "# crossoverModel_pred\n",
    "for i in range(0, len(crossoverModel_pred)):\n",
    "    print(f\"Predicted: {crossoverModel_pred[i]}, Real: {y_test.iloc[i]}\")"
   ]
  },
  {
   "cell_type": "code",
   "execution_count": 7,
   "metadata": {},
   "outputs": [
    {
     "name": "stdout",
     "output_type": "stream",
     "text": [
      "Confussion matrix: \n",
      "[[84  5 21]\n",
      " [ 2 82 10]\n",
      " [25 26 37]]\n",
      "\n",
      "Accuracy: 0.6952054794520548\n",
      "Precision: [0.75675676 0.72566372 0.54411765]\n",
      "Recall: [0.76363636 0.87234043 0.42045455]\n",
      "F1 score: [0.760181   0.79227053 0.47435897]\n"
     ]
    },
    {
     "data": {
      "image/png": "[encoded data removed]",
      "text/plain": [
       "<Figure size 1500x900 with 2 Axes>"
      ]
     },
     "metadata": {},
     "output_type": "display_data"
    }
   ],
   "source": [
    "# Predecir etiquetas para los datos de prueba\n",
    "crossoverModel_pred = crossoverModel.predict(X_test)\n",
    "\n",
    "# Instanciar matriz de confusión\n",
    "confussionMatrix = confusion_matrix(y_test, crossoverModel_pred)\n",
    "\n",
    "# Calcular metricas de evaluacion de la matriz de confusion\n",
    "accuracy = accuracy_score(y_test, crossoverModel_pred)\n",
    "precision = precision_score(y_test, crossoverModel_pred, average=None)\n",
    "recall = recall_score(y_test, crossoverModel_pred, average=None)\n",
    "f1 = f1_score(y_test, crossoverModel_pred, average=None)\n",
    "\n",
    "# Mostrar resultados\n",
    "print(f\"Confussion matrix: \\n{confussionMatrix}\\n\")\n",
    "print(f\"Accuracy: {format(accuracy)}\")\n",
    "print(f\"Precision: {format(precision)}\")\n",
    "print(f\"Recall: {format(recall)}\")\n",
    "print(f\"F1 score: {format(f1)}\")\n",
    "\n",
    "# Visualizar la matriz de confusión\n",
    "sb.heatmap(\n",
    "  confussionMatrix,\n",
    "  annot=True,\n",
    "  cmap=\"Blues\",\n",
    "  fmt=\"d\",\n",
    "  xticklabels=['Economic', 'Intermediate', 'Expensive'],\n",
    "  yticklabels=['Economic', 'Intermediate', 'Expensive']\n",
    ")\n",
    "plt.title('Crossover model confussion matrix')\n",
    "plt.xlabel('Predicted Label')\n",
    "plt.ylabel('True Label')\n",
    "plt.show()"
   ]
  },
  {
   "cell_type": "markdown",
   "metadata": {},
   "source": [
    "3. Elabore un modelo de regresión logística para conocer si una vivienda es cara o no, utilizando el conjunto de entrenamiento y explique los resultados a los que llega. El experimento debe ser reproducible por lo que debe fijar que los conjuntos de entrenamiento y prueba sean los mismos siempre que se ejecute el código. Use validación cruzada."
   ]
  },
  {
   "cell_type": "markdown",
   "metadata": {},
   "source": [
    "Quitar del conjunto de datos aquellas variables que no se aportan información relevante para la elaboración de modelos como el id, nombre, etc."
   ]
  },
  {
   "cell_type": "code",
   "execution_count": 2,
   "metadata": {},
   "outputs": [
    {
     "name": "stdout",
     "output_type": "stream",
     "text": [
      "      Economic  Intermediate  Expensive\n",
      "0        False         False       True\n",
      "1        False          True      False\n",
      "2        False         False       True\n",
      "3        False          True      False\n",
      "4        False         False       True\n",
      "...        ...           ...        ...\n",
      "1455     False          True      False\n",
      "1456     False         False       True\n",
      "1457     False         False       True\n",
      "1458     False          True      False\n",
      "1459     False          True      False\n",
      "\n",
      "[1460 rows x 3 columns]\n"
     ]
    }
   ],
   "source": [
    "houses = pd.read_csv('train.csv')\n",
    "\n",
    "# Define categories\n",
    "categories = ['Economic', 'Intermediate', 'Expensive']\n",
    "\n",
    "# Create a new column with the categories\n",
    "houses['PriceCategory'] = pd.qcut(houses['SalePrice'], q=len(categories), labels=categories)\n",
    "houses['PriceCategory'] = houses['PriceCategory'].astype('category')\n",
    "\n",
    "# Create dummy variables\n",
    "dummies = pd.get_dummies(houses['PriceCategory'])\n",
    "\n",
    "# Join the dummy variables to the main dataframe\n",
    "houses = pd.concat([houses, dummies], axis=1)\n",
    "\n",
    "# Now you have three dichotomous variables: 'Economic', 'Intermediate', and 'Expensive'\n",
    "print(houses[['Economic', 'Intermediate', 'Expensive']])"
   ]
  },
  {
   "cell_type": "code",
   "execution_count": 9,
   "metadata": {},
   "outputs": [
    {
     "name": "stdout",
     "output_type": "stream",
     "text": [
      "<class 'pandas.core.frame.DataFrame'>\n",
      "RangeIndex: 1460 entries, 0 to 1459\n",
      "Data columns (total 84 columns):\n",
      " #   Column         Non-Null Count  Dtype   \n",
      "---  ------         --------------  -----   \n",
      " 0   MSSubClass     1460 non-null   int64   \n",
      " 1   MSZoning       1460 non-null   object  \n",
      " 2   LotFrontage    1201 non-null   float64 \n",
      " 3   LotArea        1460 non-null   int64   \n",
      " 4   Street         1460 non-null   object  \n",
      " 5   Alley          91 non-null     object  \n",
      " 6   LotShape       1460 non-null   object  \n",
      " 7   LandContour    1460 non-null   object  \n",
      " 8   Utilities      1460 non-null   object  \n",
      " 9   LotConfig      1460 non-null   object  \n",
      " 10  LandSlope      1460 non-null   object  \n",
      " 11  Neighborhood   1460 non-null   object  \n",
      " 12  Condition1     1460 non-null   object  \n",
      " 13  Condition2     1460 non-null   object  \n",
      " 14  BldgType       1460 non-null   object  \n",
      " 15  HouseStyle     1460 non-null   object  \n",
      " 16  OverallQual    1460 non-null   int64   \n",
      " 17  OverallCond    1460 non-null   int64   \n",
      " 18  YearBuilt      1460 non-null   int64   \n",
      " 19  YearRemodAdd   1460 non-null   int64   \n",
      " 20  RoofStyle      1460 non-null   object  \n",
      " 21  RoofMatl       1460 non-null   object  \n",
      " 22  Exterior1st    1460 non-null   object  \n",
      " 23  Exterior2nd    1460 non-null   object  \n",
      " 24  MasVnrType     588 non-null    object  \n",
      " 25  MasVnrArea     1452 non-null   float64 \n",
      " 26  ExterQual      1460 non-null   object  \n",
      " 27  ExterCond      1460 non-null   object  \n",
      " 28  Foundation     1460 non-null   object  \n",
      " 29  BsmtQual       1423 non-null   object  \n",
      " 30  BsmtCond       1423 non-null   object  \n",
      " 31  BsmtExposure   1422 non-null   object  \n",
      " 32  BsmtFinType1   1423 non-null   object  \n",
      " 33  BsmtFinSF1     1460 non-null   int64   \n",
      " 34  BsmtFinType2   1422 non-null   object  \n",
      " 35  BsmtFinSF2     1460 non-null   int64   \n",
      " 36  BsmtUnfSF      1460 non-null   int64   \n",
      " 37  TotalBsmtSF    1460 non-null   int64   \n",
      " 38  Heating        1460 non-null   object  \n",
      " 39  HeatingQC      1460 non-null   object  \n",
      " 40  CentralAir     1460 non-null   object  \n",
      " 41  Electrical     1459 non-null   object  \n",
      " 42  1stFlrSF       1460 non-null   int64   \n",
      " 43  2ndFlrSF       1460 non-null   int64   \n",
      " 44  LowQualFinSF   1460 non-null   int64   \n",
      " 45  GrLivArea      1460 non-null   int64   \n",
      " 46  BsmtFullBath   1460 non-null   int64   \n",
      " 47  BsmtHalfBath   1460 non-null   int64   \n",
      " 48  FullBath       1460 non-null   int64   \n",
      " 49  HalfBath       1460 non-null   int64   \n",
      " 50  BedroomAbvGr   1460 non-null   int64   \n",
      " 51  KitchenAbvGr   1460 non-null   int64   \n",
      " 52  KitchenQual    1460 non-null   object  \n",
      " 53  TotRmsAbvGrd   1460 non-null   int64   \n",
      " 54  Functional     1460 non-null   object  \n",
      " 55  Fireplaces     1460 non-null   int64   \n",
      " 56  FireplaceQu    770 non-null    object  \n",
      " 57  GarageType     1379 non-null   object  \n",
      " 58  GarageYrBlt    1379 non-null   float64 \n",
      " 59  GarageFinish   1379 non-null   object  \n",
      " 60  GarageCars     1460 non-null   int64   \n",
      " 61  GarageArea     1460 non-null   int64   \n",
      " 62  GarageQual     1379 non-null   object  \n",
      " 63  GarageCond     1379 non-null   object  \n",
      " 64  PavedDrive     1460 non-null   object  \n",
      " 65  WoodDeckSF     1460 non-null   int64   \n",
      " 66  OpenPorchSF    1460 non-null   int64   \n",
      " 67  EnclosedPorch  1460 non-null   int64   \n",
      " 68  3SsnPorch      1460 non-null   int64   \n",
      " 69  ScreenPorch    1460 non-null   int64   \n",
      " 70  PoolArea       1460 non-null   int64   \n",
      " 71  PoolQC         7 non-null      object  \n",
      " 72  Fence          281 non-null    object  \n",
      " 73  MiscFeature    54 non-null     object  \n",
      " 74  MiscVal        1460 non-null   int64   \n",
      " 75  MoSold         1460 non-null   int64   \n",
      " 76  YrSold         1460 non-null   int64   \n",
      " 77  SaleType       1460 non-null   object  \n",
      " 78  SaleCondition  1460 non-null   object  \n",
      " 79  SalePrice      1460 non-null   int64   \n",
      " 80  PriceCategory  1460 non-null   category\n",
      " 81  Economic       1460 non-null   bool    \n",
      " 82  Intermediate   1460 non-null   bool    \n",
      " 83  Expensive      1460 non-null   bool    \n",
      "dtypes: bool(3), category(1), float64(3), int64(34), object(43)\n",
      "memory usage: 918.5+ KB\n"
     ]
    }
   ],
   "source": [
    "houses.drop(columns=[\"Id\"],axis=1, inplace=True)\n",
    "houses.info()"
   ]
  },
  {
   "cell_type": "markdown",
   "metadata": {},
   "source": [
    "- Alley no posee 94.8 % de sus datos, entonces la vamos a eliminar\n",
    "- Pero LotFrontage solo le falta el 17.7 % entonces la llenaremos con la media"
   ]
  },
  {
   "cell_type": "code",
   "execution_count": 10,
   "metadata": {},
   "outputs": [
    {
     "name": "stdout",
     "output_type": "stream",
     "text": [
      "<class 'pandas.core.frame.DataFrame'>\n",
      "RangeIndex: 1460 entries, 0 to 1459\n",
      "Data columns (total 83 columns):\n",
      " #   Column         Non-Null Count  Dtype   \n",
      "---  ------         --------------  -----   \n",
      " 0   MSSubClass     1460 non-null   int64   \n",
      " 1   MSZoning       1460 non-null   object  \n",
      " 2   LotFrontage    1460 non-null   float64 \n",
      " 3   LotArea        1460 non-null   int64   \n",
      " 4   Street         1460 non-null   object  \n",
      " 5   LotShape       1460 non-null   object  \n",
      " 6   LandContour    1460 non-null   object  \n",
      " 7   Utilities      1460 non-null   object  \n",
      " 8   LotConfig      1460 non-null   object  \n",
      " 9   LandSlope      1460 non-null   object  \n",
      " 10  Neighborhood   1460 non-null   object  \n",
      " 11  Condition1     1460 non-null   object  \n",
      " 12  Condition2     1460 non-null   object  \n",
      " 13  BldgType       1460 non-null   object  \n",
      " 14  HouseStyle     1460 non-null   object  \n",
      " 15  OverallQual    1460 non-null   int64   \n",
      " 16  OverallCond    1460 non-null   int64   \n",
      " 17  YearBuilt      1460 non-null   int64   \n",
      " 18  YearRemodAdd   1460 non-null   int64   \n",
      " 19  RoofStyle      1460 non-null   object  \n",
      " 20  RoofMatl       1460 non-null   object  \n",
      " 21  Exterior1st    1460 non-null   object  \n",
      " 22  Exterior2nd    1460 non-null   object  \n",
      " 23  MasVnrType     588 non-null    object  \n",
      " 24  MasVnrArea     1452 non-null   float64 \n",
      " 25  ExterQual      1460 non-null   object  \n",
      " 26  ExterCond      1460 non-null   object  \n",
      " 27  Foundation     1460 non-null   object  \n",
      " 28  BsmtQual       1423 non-null   object  \n",
      " 29  BsmtCond       1423 non-null   object  \n",
      " 30  BsmtExposure   1422 non-null   object  \n",
      " 31  BsmtFinType1   1423 non-null   object  \n",
      " 32  BsmtFinSF1     1460 non-null   int64   \n",
      " 33  BsmtFinType2   1422 non-null   object  \n",
      " 34  BsmtFinSF2     1460 non-null   int64   \n",
      " 35  BsmtUnfSF      1460 non-null   int64   \n",
      " 36  TotalBsmtSF    1460 non-null   int64   \n",
      " 37  Heating        1460 non-null   object  \n",
      " 38  HeatingQC      1460 non-null   object  \n",
      " 39  CentralAir     1460 non-null   object  \n",
      " 40  Electrical     1459 non-null   object  \n",
      " 41  1stFlrSF       1460 non-null   int64   \n",
      " 42  2ndFlrSF       1460 non-null   int64   \n",
      " 43  LowQualFinSF   1460 non-null   int64   \n",
      " 44  GrLivArea      1460 non-null   int64   \n",
      " 45  BsmtFullBath   1460 non-null   int64   \n",
      " 46  BsmtHalfBath   1460 non-null   int64   \n",
      " 47  FullBath       1460 non-null   int64   \n",
      " 48  HalfBath       1460 non-null   int64   \n",
      " 49  BedroomAbvGr   1460 non-null   int64   \n",
      " 50  KitchenAbvGr   1460 non-null   int64   \n",
      " 51  KitchenQual    1460 non-null   object  \n",
      " 52  TotRmsAbvGrd   1460 non-null   int64   \n",
      " 53  Functional     1460 non-null   object  \n",
      " 54  Fireplaces     1460 non-null   int64   \n",
      " 55  FireplaceQu    770 non-null    object  \n",
      " 56  GarageType     1379 non-null   object  \n",
      " 57  GarageYrBlt    1379 non-null   float64 \n",
      " 58  GarageFinish   1379 non-null   object  \n",
      " 59  GarageCars     1460 non-null   int64   \n",
      " 60  GarageArea     1460 non-null   int64   \n",
      " 61  GarageQual     1379 non-null   object  \n",
      " 62  GarageCond     1379 non-null   object  \n",
      " 63  PavedDrive     1460 non-null   object  \n",
      " 64  WoodDeckSF     1460 non-null   int64   \n",
      " 65  OpenPorchSF    1460 non-null   int64   \n",
      " 66  EnclosedPorch  1460 non-null   int64   \n",
      " 67  3SsnPorch      1460 non-null   int64   \n",
      " 68  ScreenPorch    1460 non-null   int64   \n",
      " 69  PoolArea       1460 non-null   int64   \n",
      " 70  PoolQC         7 non-null      object  \n",
      " 71  Fence          281 non-null    object  \n",
      " 72  MiscFeature    54 non-null     object  \n",
      " 73  MiscVal        1460 non-null   int64   \n",
      " 74  MoSold         1460 non-null   int64   \n",
      " 75  YrSold         1460 non-null   int64   \n",
      " 76  SaleType       1460 non-null   object  \n",
      " 77  SaleCondition  1460 non-null   object  \n",
      " 78  SalePrice      1460 non-null   int64   \n",
      " 79  PriceCategory  1460 non-null   category\n",
      " 80  Economic       1460 non-null   bool    \n",
      " 81  Intermediate   1460 non-null   bool    \n",
      " 82  Expensive      1460 non-null   bool    \n",
      "dtypes: bool(3), category(1), float64(3), int64(34), object(42)\n",
      "memory usage: 907.1+ KB\n"
     ]
    },
    {
     "name": "stderr",
     "output_type": "stream",
     "text": [
      "C:\\Users\\halm9\\AppData\\Local\\Temp\\ipykernel_19928\\3745615184.py:2: FutureWarning: A value is trying to be set on a copy of a DataFrame or Series through chained assignment using an inplace method.\n",
      "The behavior will change in pandas 3.0. This inplace method will never work because the intermediate object on which we are setting values always behaves as a copy.\n",
      "\n",
      "For example, when doing 'df[col].method(value, inplace=True)', try using 'df.method({col: value}, inplace=True)' or df[col] = df[col].method(value) instead, to perform the operation inplace on the original object.\n",
      "\n",
      "\n",
      "  houses[\"LotFrontage\"].fillna(np.nanmedian(houses[\"LotFrontage\"],), inplace=True)\n"
     ]
    }
   ],
   "source": [
    "houses.drop(columns=[\"Alley\"],axis=1, inplace=True)\n",
    "houses[\"LotFrontage\"].fillna(np.nanmedian(houses[\"LotFrontage\"],), inplace=True)\n",
    "houses.info()"
   ]
  },
  {
   "cell_type": "code",
   "execution_count": 124,
   "metadata": {},
   "outputs": [
    {
     "data": {
      "text/plain": [
       "MSSubClass          int64\n",
       "MSZoning           object\n",
       "LotFrontage       float64\n",
       "LotArea             int64\n",
       "Street             object\n",
       "                   ...   \n",
       "SalePrice           int64\n",
       "PriceCategory    category\n",
       "Economic             bool\n",
       "Intermediate         bool\n",
       "Expensive            bool\n",
       "Length: 83, dtype: object"
      ]
     },
     "execution_count": 124,
     "metadata": {},
     "output_type": "execute_result"
    }
   ],
   "source": [
    "housesTypes = houses.dtypes\n",
    "housesTypes"
   ]
  },
  {
   "cell_type": "markdown",
   "metadata": {},
   "source": [
    "¿Cuantas variables categoricas hay?"
   ]
  },
  {
   "cell_type": "code",
   "execution_count": 11,
   "metadata": {},
   "outputs": [
    {
     "data": {
      "text/plain": [
       "{'PriceCategory': 'category'}"
      ]
     },
     "execution_count": 11,
     "metadata": {},
     "output_type": "execute_result"
    }
   ],
   "source": [
    "categoricals = {}\n",
    "\n",
    "# store all int64 or float64 dtypes series in a dictionary\n",
    "for column, dtype in houses.dtypes.items():\n",
    "  if dtype == \"category\":\n",
    "    categoricals[column] = str(dtype)\n",
    "\n",
    "categoricals"
   ]
  },
  {
   "cell_type": "markdown",
   "metadata": {},
   "source": [
    "Codificamos la variable categorica"
   ]
  },
  {
   "cell_type": "code",
   "execution_count": 12,
   "metadata": {},
   "outputs": [],
   "source": [
    "houses[[\"PriceCategoryNum\"]]=houses[['PriceCategory']].apply(lambda x: pd.factorize(x)[0])"
   ]
  },
  {
   "cell_type": "markdown",
   "metadata": {},
   "source": [
    "Seleccionar variables numericas para el modelo"
   ]
  },
  {
   "cell_type": "code",
   "execution_count": 5,
   "metadata": {},
   "outputs": [
    {
     "data": {
      "text/plain": [
       "['Id',\n",
       " 'MSSubClass',\n",
       " 'LotArea',\n",
       " 'OverallQual',\n",
       " 'OverallCond',\n",
       " 'YearBuilt',\n",
       " 'YearRemodAdd',\n",
       " 'BsmtFinSF1',\n",
       " 'BsmtFinSF2',\n",
       " 'BsmtUnfSF',\n",
       " 'TotalBsmtSF',\n",
       " '1stFlrSF',\n",
       " '2ndFlrSF',\n",
       " 'LowQualFinSF',\n",
       " 'GrLivArea',\n",
       " 'BsmtFullBath',\n",
       " 'BsmtHalfBath',\n",
       " 'FullBath',\n",
       " 'HalfBath',\n",
       " 'BedroomAbvGr',\n",
       " 'KitchenAbvGr',\n",
       " 'TotRmsAbvGrd',\n",
       " 'Fireplaces',\n",
       " 'GarageCars',\n",
       " 'GarageArea',\n",
       " 'WoodDeckSF',\n",
       " 'OpenPorchSF',\n",
       " 'EnclosedPorch',\n",
       " '3SsnPorch',\n",
       " 'ScreenPorch',\n",
       " 'PoolArea',\n",
       " 'MiscVal',\n",
       " 'MoSold',\n",
       " 'YrSold',\n",
       " 'SalePrice']"
      ]
     },
     "execution_count": 5,
     "metadata": {},
     "output_type": "execute_result"
    }
   ],
   "source": [
    "numerics = []\n",
    "\n",
    "# store all int64 or float64 dtypes series in a dictionary\n",
    "for column, dtype in houses.dtypes.items():\n",
    "  if (dtype == \"int64\" or dtype == \"float64\" or dtype == \"uint8\") and houses[column].isnull().sum() == 0:\n",
    "    numerics.append(column)\n",
    "\n",
    "numerics"
   ]
  },
  {
   "cell_type": "markdown",
   "metadata": {},
   "source": [
    "Muestreo aleatorio simple para nuestra variable objetivo: Expensive"
   ]
  },
  {
   "cell_type": "code",
   "execution_count": 6,
   "metadata": {},
   "outputs": [
    {
     "ename": "KeyError",
     "evalue": "'Expensive'",
     "output_type": "error",
     "traceback": [
      "\u001b[1;31m---------------------------------------------------------------------------\u001b[0m",
      "\u001b[1;31mKeyError\u001b[0m                                  Traceback (most recent call last)",
      "File \u001b[1;32mc:\\Users\\halm9\\AppData\\Local\\Programs\\Python\\Python312\\Lib\\site-packages\\pandas\\core\\indexes\\base.py:3805\u001b[0m, in \u001b[0;36mIndex.get_loc\u001b[1;34m(self, key)\u001b[0m\n\u001b[0;32m   3804\u001b[0m \u001b[38;5;28;01mtry\u001b[39;00m:\n\u001b[1;32m-> 3805\u001b[0m     \u001b[38;5;28;01mreturn\u001b[39;00m \u001b[38;5;28;43mself\u001b[39;49m\u001b[38;5;241;43m.\u001b[39;49m\u001b[43m_engine\u001b[49m\u001b[38;5;241;43m.\u001b[39;49m\u001b[43mget_loc\u001b[49m\u001b[43m(\u001b[49m\u001b[43mcasted_key\u001b[49m\u001b[43m)\u001b[49m\n\u001b[0;32m   3806\u001b[0m \u001b[38;5;28;01mexcept\u001b[39;00m \u001b[38;5;167;01mKeyError\u001b[39;00m \u001b[38;5;28;01mas\u001b[39;00m err:\n",
      "File \u001b[1;32mindex.pyx:167\u001b[0m, in \u001b[0;36mpandas._libs.index.IndexEngine.get_loc\u001b[1;34m()\u001b[0m\n",
      "File \u001b[1;32mindex.pyx:196\u001b[0m, in \u001b[0;36mpandas._libs.index.IndexEngine.get_loc\u001b[1;34m()\u001b[0m\n",
      "File \u001b[1;32mpandas\\\\_libs\\\\hashtable_class_helper.pxi:7081\u001b[0m, in \u001b[0;36mpandas._libs.hashtable.PyObjectHashTable.get_item\u001b[1;34m()\u001b[0m\n",
      "File \u001b[1;32mpandas\\\\_libs\\\\hashtable_class_helper.pxi:7089\u001b[0m, in \u001b[0;36mpandas._libs.hashtable.PyObjectHashTable.get_item\u001b[1;34m()\u001b[0m\n",
      "\u001b[1;31mKeyError\u001b[0m: 'Expensive'",
      "\nThe above exception was the direct cause of the following exception:\n",
      "\u001b[1;31mKeyError\u001b[0m                                  Traceback (most recent call last)",
      "Cell \u001b[1;32mIn[15], line 1\u001b[0m\n\u001b[1;32m----> 1\u001b[0m y \u001b[38;5;241m=\u001b[39m \u001b[43mhouses\u001b[49m\u001b[38;5;241;43m.\u001b[39;49m\u001b[43mpop\u001b[49m\u001b[43m(\u001b[49m\u001b[38;5;124;43m\"\u001b[39;49m\u001b[38;5;124;43mExpensive\u001b[39;49m\u001b[38;5;124;43m\"\u001b[39;49m\u001b[43m)\u001b[49m\n\u001b[0;32m      2\u001b[0m X \u001b[38;5;241m=\u001b[39m houses\n\u001b[0;32m      4\u001b[0m \u001b[38;5;66;03m# List of all columns\u001b[39;00m\n",
      "File \u001b[1;32mc:\\Users\\halm9\\AppData\\Local\\Programs\\Python\\Python312\\Lib\\site-packages\\pandas\\core\\frame.py:5806\u001b[0m, in \u001b[0;36mDataFrame.pop\u001b[1;34m(self, item)\u001b[0m\n\u001b[0;32m   5765\u001b[0m \u001b[38;5;28;01mdef\u001b[39;00m \u001b[38;5;21mpop\u001b[39m(\u001b[38;5;28mself\u001b[39m, item: Hashable) \u001b[38;5;241m-\u001b[39m\u001b[38;5;241m>\u001b[39m Series:\n\u001b[0;32m   5766\u001b[0m \u001b[38;5;250m    \u001b[39m\u001b[38;5;124;03m\"\"\"\u001b[39;00m\n\u001b[0;32m   5767\u001b[0m \u001b[38;5;124;03m    Return item and drop from frame. Raise KeyError if not found.\u001b[39;00m\n\u001b[0;32m   5768\u001b[0m \n\u001b[1;32m   (...)\u001b[0m\n\u001b[0;32m   5804\u001b[0m \u001b[38;5;124;03m    3  monkey        NaN\u001b[39;00m\n\u001b[0;32m   5805\u001b[0m \u001b[38;5;124;03m    \"\"\"\u001b[39;00m\n\u001b[1;32m-> 5806\u001b[0m     \u001b[38;5;28;01mreturn\u001b[39;00m \u001b[38;5;28;43msuper\u001b[39;49m\u001b[43m(\u001b[49m\u001b[43m)\u001b[49m\u001b[38;5;241;43m.\u001b[39;49m\u001b[43mpop\u001b[49m\u001b[43m(\u001b[49m\u001b[43mitem\u001b[49m\u001b[38;5;241;43m=\u001b[39;49m\u001b[43mitem\u001b[49m\u001b[43m)\u001b[49m\n",
      "File \u001b[1;32mc:\\Users\\halm9\\AppData\\Local\\Programs\\Python\\Python312\\Lib\\site-packages\\pandas\\core\\generic.py:946\u001b[0m, in \u001b[0;36mNDFrame.pop\u001b[1;34m(self, item)\u001b[0m\n\u001b[0;32m    945\u001b[0m \u001b[38;5;28;01mdef\u001b[39;00m \u001b[38;5;21mpop\u001b[39m(\u001b[38;5;28mself\u001b[39m, item: Hashable) \u001b[38;5;241m-\u001b[39m\u001b[38;5;241m>\u001b[39m Series \u001b[38;5;241m|\u001b[39m Any:\n\u001b[1;32m--> 946\u001b[0m     result \u001b[38;5;241m=\u001b[39m \u001b[38;5;28;43mself\u001b[39;49m\u001b[43m[\u001b[49m\u001b[43mitem\u001b[49m\u001b[43m]\u001b[49m\n\u001b[0;32m    947\u001b[0m     \u001b[38;5;28;01mdel\u001b[39;00m \u001b[38;5;28mself\u001b[39m[item]\n\u001b[0;32m    949\u001b[0m     \u001b[38;5;28;01mreturn\u001b[39;00m result\n",
      "File \u001b[1;32mc:\\Users\\halm9\\AppData\\Local\\Programs\\Python\\Python312\\Lib\\site-packages\\pandas\\core\\frame.py:4090\u001b[0m, in \u001b[0;36mDataFrame.__getitem__\u001b[1;34m(self, key)\u001b[0m\n\u001b[0;32m   4088\u001b[0m \u001b[38;5;28;01mif\u001b[39;00m \u001b[38;5;28mself\u001b[39m\u001b[38;5;241m.\u001b[39mcolumns\u001b[38;5;241m.\u001b[39mnlevels \u001b[38;5;241m>\u001b[39m \u001b[38;5;241m1\u001b[39m:\n\u001b[0;32m   4089\u001b[0m     \u001b[38;5;28;01mreturn\u001b[39;00m \u001b[38;5;28mself\u001b[39m\u001b[38;5;241m.\u001b[39m_getitem_multilevel(key)\n\u001b[1;32m-> 4090\u001b[0m indexer \u001b[38;5;241m=\u001b[39m \u001b[38;5;28;43mself\u001b[39;49m\u001b[38;5;241;43m.\u001b[39;49m\u001b[43mcolumns\u001b[49m\u001b[38;5;241;43m.\u001b[39;49m\u001b[43mget_loc\u001b[49m\u001b[43m(\u001b[49m\u001b[43mkey\u001b[49m\u001b[43m)\u001b[49m\n\u001b[0;32m   4091\u001b[0m \u001b[38;5;28;01mif\u001b[39;00m is_integer(indexer):\n\u001b[0;32m   4092\u001b[0m     indexer \u001b[38;5;241m=\u001b[39m [indexer]\n",
      "File \u001b[1;32mc:\\Users\\halm9\\AppData\\Local\\Programs\\Python\\Python312\\Lib\\site-packages\\pandas\\core\\indexes\\base.py:3812\u001b[0m, in \u001b[0;36mIndex.get_loc\u001b[1;34m(self, key)\u001b[0m\n\u001b[0;32m   3807\u001b[0m     \u001b[38;5;28;01mif\u001b[39;00m \u001b[38;5;28misinstance\u001b[39m(casted_key, \u001b[38;5;28mslice\u001b[39m) \u001b[38;5;129;01mor\u001b[39;00m (\n\u001b[0;32m   3808\u001b[0m         \u001b[38;5;28misinstance\u001b[39m(casted_key, abc\u001b[38;5;241m.\u001b[39mIterable)\n\u001b[0;32m   3809\u001b[0m         \u001b[38;5;129;01mand\u001b[39;00m \u001b[38;5;28many\u001b[39m(\u001b[38;5;28misinstance\u001b[39m(x, \u001b[38;5;28mslice\u001b[39m) \u001b[38;5;28;01mfor\u001b[39;00m x \u001b[38;5;129;01min\u001b[39;00m casted_key)\n\u001b[0;32m   3810\u001b[0m     ):\n\u001b[0;32m   3811\u001b[0m         \u001b[38;5;28;01mraise\u001b[39;00m InvalidIndexError(key)\n\u001b[1;32m-> 3812\u001b[0m     \u001b[38;5;28;01mraise\u001b[39;00m \u001b[38;5;167;01mKeyError\u001b[39;00m(key) \u001b[38;5;28;01mfrom\u001b[39;00m \u001b[38;5;21;01merr\u001b[39;00m\n\u001b[0;32m   3813\u001b[0m \u001b[38;5;28;01mexcept\u001b[39;00m \u001b[38;5;167;01mTypeError\u001b[39;00m:\n\u001b[0;32m   3814\u001b[0m     \u001b[38;5;66;03m# If we have a listlike key, _check_indexing_error will raise\u001b[39;00m\n\u001b[0;32m   3815\u001b[0m     \u001b[38;5;66;03m#  InvalidIndexError. Otherwise we fall through and re-raise\u001b[39;00m\n\u001b[0;32m   3816\u001b[0m     \u001b[38;5;66;03m#  the TypeError.\u001b[39;00m\n\u001b[0;32m   3817\u001b[0m     \u001b[38;5;28mself\u001b[39m\u001b[38;5;241m.\u001b[39m_check_indexing_error(key)\n",
      "\u001b[1;31mKeyError\u001b[0m: 'Expensive'"
     ]
    }
   ],
   "source": [
    "y = houses.pop(\"Expensive\")\n",
    "X = houses\n",
    "\n",
    "# List of all columns\n",
    "all_columns = X.columns.tolist()\n",
    "\n",
    "# Columns to drop\n",
    "columns_to_drop = [col for col in all_columns if col not in numerics]\n",
    "\n",
    "X.drop(columns_to_drop, axis=1, inplace=True)\n",
    "X_train, X_test,y_train, y_test = train_test_split(X, y,test_size=0.3,train_size=0.7)"
   ]
  },
  {
   "cell_type": "code",
   "execution_count": 7,
   "metadata": {},
   "outputs": [
    {
     "data": {
      "text/plain": [
       "Expensive\n",
       "False    977\n",
       "True     483\n",
       "Name: count, dtype: int64"
      ]
     },
     "execution_count": 7,
     "metadata": {},
     "output_type": "execute_result"
    }
   ],
   "source": [
    "y.value_counts()"
   ]
  },
  {
   "cell_type": "markdown",
   "metadata": {},
   "source": [
    "##### Modelo de regresion logistica"
   ]
  },
  {
   "cell_type": "code",
   "execution_count": 8,
   "metadata": {},
   "outputs": [
    {
     "ename": "ValueError",
     "evalue": "list.remove(x): x not in list",
     "output_type": "error",
     "traceback": [
      "\u001b[1;31m---------------------------------------------------------------------------\u001b[0m",
      "\u001b[1;31mValueError\u001b[0m                                Traceback (most recent call last)",
      "Cell \u001b[1;32mIn[8], line 1\u001b[0m\n\u001b[1;32m----> 1\u001b[0m \u001b[43mnumerics\u001b[49m\u001b[38;5;241;43m.\u001b[39;49m\u001b[43mremove\u001b[49m\u001b[43m(\u001b[49m\u001b[38;5;124;43m\"\u001b[39;49m\u001b[38;5;124;43mExpensive\u001b[39;49m\u001b[38;5;124;43m\"\u001b[39;49m\u001b[43m)\u001b[49m\n\u001b[0;32m      2\u001b[0m logReg \u001b[38;5;241m=\u001b[39m LogisticRegression(solver\u001b[38;5;241m=\u001b[39m\u001b[38;5;124m'\u001b[39m\u001b[38;5;124mliblinear\u001b[39m\u001b[38;5;124m'\u001b[39m)\n\u001b[0;32m      3\u001b[0m result \u001b[38;5;241m=\u001b[39m logReg\u001b[38;5;241m.\u001b[39mfit(X_train[numerics],y_train)\n",
      "\u001b[1;31mValueError\u001b[0m: list.remove(x): x not in list"
     ]
    }
   ],
   "source": [
    "numerics.remove(\"Expensive\")\n",
    "logReg = LogisticRegression(solver='liblinear')\n",
    "result = logReg.fit(X_train[numerics],y_train)"
   ]
  },
  {
   "cell_type": "code",
   "execution_count": null,
   "metadata": {},
   "outputs": [
    {
     "ename": "NameError",
     "evalue": "name 'logReg' is not defined",
     "output_type": "error",
     "traceback": [
      "\u001b[1;31m---------------------------------------------------------------------------\u001b[0m",
      "\u001b[1;31mNameError\u001b[0m                                 Traceback (most recent call last)",
      "Cell \u001b[1;32mIn[86], line 1\u001b[0m\n\u001b[1;32m----> 1\u001b[0m y_pred \u001b[38;5;241m=\u001b[39m \u001b[43mlogReg\u001b[49m\u001b[38;5;241m.\u001b[39mpredict(X_test[numerics])\n\u001b[0;32m      2\u001b[0m \u001b[38;5;28mprint\u001b[39m(\u001b[38;5;124m'\u001b[39m\u001b[38;5;124mAccuracy of logistic regression classifier on test set: \u001b[39m\u001b[38;5;132;01m{:.2f}\u001b[39;00m\u001b[38;5;124m'\u001b[39m\u001b[38;5;241m.\u001b[39mformat(logReg\u001b[38;5;241m.\u001b[39mscore(X_test[numerics], y_test)))\n",
      "\u001b[1;31mNameError\u001b[0m: name 'logReg' is not defined"
     ]
    }
   ],
   "source": [
    "y_pred = logReg.predict(X_test[numerics])\n",
    "print('Accuracy of logistic regression classifier on test set: {:.2f}'.format(logReg.score(X_test[numerics], y_test)))"
   ]
  },
  {
   "cell_type": "code",
   "execution_count": null,
   "metadata": {},
   "outputs": [
    {
     "ename": "ValueError",
     "evalue": "Found input variables with inconsistent numbers of samples: [438, 292]",
     "output_type": "error",
     "traceback": [
      "\u001b[1;31m---------------------------------------------------------------------------\u001b[0m",
      "\u001b[1;31mValueError\u001b[0m                                Traceback (most recent call last)",
      "Cell \u001b[1;32mIn[88], line 1\u001b[0m\n\u001b[1;32m----> 1\u001b[0m \u001b[38;5;28mprint\u001b[39m(\u001b[43mclassification_report\u001b[49m\u001b[43m(\u001b[49m\u001b[43my_test\u001b[49m\u001b[43m,\u001b[49m\u001b[43my_pred\u001b[49m\u001b[43m)\u001b[49m)\n\u001b[0;32m      3\u001b[0m logit_roc_auc \u001b[38;5;241m=\u001b[39m roc_auc_score(y_test, logReg\u001b[38;5;241m.\u001b[39mpredict(X_test[numerics]))\n\u001b[0;32m      4\u001b[0m fpr, tpr, thresholds \u001b[38;5;241m=\u001b[39m roc_curve(y_test, logReg\u001b[38;5;241m.\u001b[39mpredict_proba(X_test[numerics])[:,\u001b[38;5;241m1\u001b[39m])\n",
      "File \u001b[1;32mc:\\Users\\estra\\AppData\\Local\\Programs\\Python\\Python312\\Lib\\site-packages\\sklearn\\utils\\_param_validation.py:213\u001b[0m, in \u001b[0;36mvalidate_params.<locals>.decorator.<locals>.wrapper\u001b[1;34m(*args, **kwargs)\u001b[0m\n\u001b[0;32m    207\u001b[0m \u001b[38;5;28;01mtry\u001b[39;00m:\n\u001b[0;32m    208\u001b[0m     \u001b[38;5;28;01mwith\u001b[39;00m config_context(\n\u001b[0;32m    209\u001b[0m         skip_parameter_validation\u001b[38;5;241m=\u001b[39m(\n\u001b[0;32m    210\u001b[0m             prefer_skip_nested_validation \u001b[38;5;129;01mor\u001b[39;00m global_skip_validation\n\u001b[0;32m    211\u001b[0m         )\n\u001b[0;32m    212\u001b[0m     ):\n\u001b[1;32m--> 213\u001b[0m         \u001b[38;5;28;01mreturn\u001b[39;00m \u001b[43mfunc\u001b[49m\u001b[43m(\u001b[49m\u001b[38;5;241;43m*\u001b[39;49m\u001b[43margs\u001b[49m\u001b[43m,\u001b[49m\u001b[43m \u001b[49m\u001b[38;5;241;43m*\u001b[39;49m\u001b[38;5;241;43m*\u001b[39;49m\u001b[43mkwargs\u001b[49m\u001b[43m)\u001b[49m\n\u001b[0;32m    214\u001b[0m \u001b[38;5;28;01mexcept\u001b[39;00m InvalidParameterError \u001b[38;5;28;01mas\u001b[39;00m e:\n\u001b[0;32m    215\u001b[0m     \u001b[38;5;66;03m# When the function is just a wrapper around an estimator, we allow\u001b[39;00m\n\u001b[0;32m    216\u001b[0m     \u001b[38;5;66;03m# the function to delegate validation to the estimator, but we replace\u001b[39;00m\n\u001b[0;32m    217\u001b[0m     \u001b[38;5;66;03m# the name of the estimator by the name of the function in the error\u001b[39;00m\n\u001b[0;32m    218\u001b[0m     \u001b[38;5;66;03m# message to avoid confusion.\u001b[39;00m\n\u001b[0;32m    219\u001b[0m     msg \u001b[38;5;241m=\u001b[39m re\u001b[38;5;241m.\u001b[39msub(\n\u001b[0;32m    220\u001b[0m         \u001b[38;5;124mr\u001b[39m\u001b[38;5;124m\"\u001b[39m\u001b[38;5;124mparameter of \u001b[39m\u001b[38;5;124m\\\u001b[39m\u001b[38;5;124mw+ must be\u001b[39m\u001b[38;5;124m\"\u001b[39m,\n\u001b[0;32m    221\u001b[0m         \u001b[38;5;124mf\u001b[39m\u001b[38;5;124m\"\u001b[39m\u001b[38;5;124mparameter of \u001b[39m\u001b[38;5;132;01m{\u001b[39;00mfunc\u001b[38;5;241m.\u001b[39m\u001b[38;5;18m__qualname__\u001b[39m\u001b[38;5;132;01m}\u001b[39;00m\u001b[38;5;124m must be\u001b[39m\u001b[38;5;124m\"\u001b[39m,\n\u001b[0;32m    222\u001b[0m         \u001b[38;5;28mstr\u001b[39m(e),\n\u001b[0;32m    223\u001b[0m     )\n",
      "File \u001b[1;32mc:\\Users\\estra\\AppData\\Local\\Programs\\Python\\Python312\\Lib\\site-packages\\sklearn\\metrics\\_classification.py:2592\u001b[0m, in \u001b[0;36mclassification_report\u001b[1;34m(y_true, y_pred, labels, target_names, sample_weight, digits, output_dict, zero_division)\u001b[0m\n\u001b[0;32m   2457\u001b[0m \u001b[38;5;129m@validate_params\u001b[39m(\n\u001b[0;32m   2458\u001b[0m     {\n\u001b[0;32m   2459\u001b[0m         \u001b[38;5;124m\"\u001b[39m\u001b[38;5;124my_true\u001b[39m\u001b[38;5;124m\"\u001b[39m: [\u001b[38;5;124m\"\u001b[39m\u001b[38;5;124marray-like\u001b[39m\u001b[38;5;124m\"\u001b[39m, \u001b[38;5;124m\"\u001b[39m\u001b[38;5;124msparse matrix\u001b[39m\u001b[38;5;124m\"\u001b[39m],\n\u001b[1;32m   (...)\u001b[0m\n\u001b[0;32m   2483\u001b[0m     zero_division\u001b[38;5;241m=\u001b[39m\u001b[38;5;124m\"\u001b[39m\u001b[38;5;124mwarn\u001b[39m\u001b[38;5;124m\"\u001b[39m,\n\u001b[0;32m   2484\u001b[0m ):\n\u001b[0;32m   2485\u001b[0m \u001b[38;5;250m    \u001b[39m\u001b[38;5;124;03m\"\"\"Build a text report showing the main classification metrics.\u001b[39;00m\n\u001b[0;32m   2486\u001b[0m \n\u001b[0;32m   2487\u001b[0m \u001b[38;5;124;03m    Read more in the :ref:`User Guide <classification_report>`.\u001b[39;00m\n\u001b[1;32m   (...)\u001b[0m\n\u001b[0;32m   2589\u001b[0m \u001b[38;5;124;03m    <BLANKLINE>\u001b[39;00m\n\u001b[0;32m   2590\u001b[0m \u001b[38;5;124;03m    \"\"\"\u001b[39;00m\n\u001b[1;32m-> 2592\u001b[0m     y_type, y_true, y_pred \u001b[38;5;241m=\u001b[39m \u001b[43m_check_targets\u001b[49m\u001b[43m(\u001b[49m\u001b[43my_true\u001b[49m\u001b[43m,\u001b[49m\u001b[43m \u001b[49m\u001b[43my_pred\u001b[49m\u001b[43m)\u001b[49m\n\u001b[0;32m   2594\u001b[0m     \u001b[38;5;28;01mif\u001b[39;00m labels \u001b[38;5;129;01mis\u001b[39;00m \u001b[38;5;28;01mNone\u001b[39;00m:\n\u001b[0;32m   2595\u001b[0m         labels \u001b[38;5;241m=\u001b[39m unique_labels(y_true, y_pred)\n",
      "File \u001b[1;32mc:\\Users\\estra\\AppData\\Local\\Programs\\Python\\Python312\\Lib\\site-packages\\sklearn\\metrics\\_classification.py:85\u001b[0m, in \u001b[0;36m_check_targets\u001b[1;34m(y_true, y_pred)\u001b[0m\n\u001b[0;32m     58\u001b[0m \u001b[38;5;28;01mdef\u001b[39;00m \u001b[38;5;21m_check_targets\u001b[39m(y_true, y_pred):\n\u001b[0;32m     59\u001b[0m \u001b[38;5;250m    \u001b[39m\u001b[38;5;124;03m\"\"\"Check that y_true and y_pred belong to the same classification task.\u001b[39;00m\n\u001b[0;32m     60\u001b[0m \n\u001b[0;32m     61\u001b[0m \u001b[38;5;124;03m    This converts multiclass or binary types to a common shape, and raises a\u001b[39;00m\n\u001b[1;32m   (...)\u001b[0m\n\u001b[0;32m     83\u001b[0m \u001b[38;5;124;03m    y_pred : array or indicator matrix\u001b[39;00m\n\u001b[0;32m     84\u001b[0m \u001b[38;5;124;03m    \"\"\"\u001b[39;00m\n\u001b[1;32m---> 85\u001b[0m     \u001b[43mcheck_consistent_length\u001b[49m\u001b[43m(\u001b[49m\u001b[43my_true\u001b[49m\u001b[43m,\u001b[49m\u001b[43m \u001b[49m\u001b[43my_pred\u001b[49m\u001b[43m)\u001b[49m\n\u001b[0;32m     86\u001b[0m     type_true \u001b[38;5;241m=\u001b[39m type_of_target(y_true, input_name\u001b[38;5;241m=\u001b[39m\u001b[38;5;124m\"\u001b[39m\u001b[38;5;124my_true\u001b[39m\u001b[38;5;124m\"\u001b[39m)\n\u001b[0;32m     87\u001b[0m     type_pred \u001b[38;5;241m=\u001b[39m type_of_target(y_pred, input_name\u001b[38;5;241m=\u001b[39m\u001b[38;5;124m\"\u001b[39m\u001b[38;5;124my_pred\u001b[39m\u001b[38;5;124m\"\u001b[39m)\n",
      "File \u001b[1;32mc:\\Users\\estra\\AppData\\Local\\Programs\\Python\\Python312\\Lib\\site-packages\\sklearn\\utils\\validation.py:430\u001b[0m, in \u001b[0;36mcheck_consistent_length\u001b[1;34m(*arrays)\u001b[0m\n\u001b[0;32m    428\u001b[0m uniques \u001b[38;5;241m=\u001b[39m np\u001b[38;5;241m.\u001b[39munique(lengths)\n\u001b[0;32m    429\u001b[0m \u001b[38;5;28;01mif\u001b[39;00m \u001b[38;5;28mlen\u001b[39m(uniques) \u001b[38;5;241m>\u001b[39m \u001b[38;5;241m1\u001b[39m:\n\u001b[1;32m--> 430\u001b[0m     \u001b[38;5;28;01mraise\u001b[39;00m \u001b[38;5;167;01mValueError\u001b[39;00m(\n\u001b[0;32m    431\u001b[0m         \u001b[38;5;124m\"\u001b[39m\u001b[38;5;124mFound input variables with inconsistent numbers of samples: \u001b[39m\u001b[38;5;132;01m%r\u001b[39;00m\u001b[38;5;124m\"\u001b[39m\n\u001b[0;32m    432\u001b[0m         \u001b[38;5;241m%\u001b[39m [\u001b[38;5;28mint\u001b[39m(l) \u001b[38;5;28;01mfor\u001b[39;00m l \u001b[38;5;129;01min\u001b[39;00m lengths]\n\u001b[0;32m    433\u001b[0m     )\n",
      "\u001b[1;31mValueError\u001b[0m: Found input variables with inconsistent numbers of samples: [438, 292]"
     ]
    }
   ],
   "source": [
    "print(classification_report(y_test,y_pred))\n",
    "\n",
    "logit_roc_auc = roc_auc_score(y_test, logReg.predict(X_test[numerics]))\n",
    "fpr, tpr, thresholds = roc_curve(y_test, logReg.predict_proba(X_test[numerics])[:,1])\n",
    "plt.figure()\n",
    "plt.plot(fpr, tpr, label='Regresión Logística (area = %0.2f)' % logit_roc_auc, color=\"steelblue\")\n",
    "plt.plot([0, 1], [0, 1],'r--')\n",
    "plt.xlim([0.0, 1.0])\n",
    "plt.ylim([0.0, 1.05])\n",
    "plt.xlabel('False Positive Rate')\n",
    "plt.ylabel('True Positive Rate')\n",
    "plt.title('Receiver operating characteristic')\n",
    "plt.legend(loc=\"lower right\")\n",
    "# plt.savefig('Log_ROC')\n",
    "plt.show()"
   ]
  },
  {
   "cell_type": "markdown",
   "metadata": {},
   "source": [
    "Modelo de validacion cruzada"
   ]
  },
  {
   "cell_type": "code",
   "execution_count": null,
   "metadata": {},
   "outputs": [
    {
     "ename": "NameError",
     "evalue": "name 'logReg' is not defined",
     "output_type": "error",
     "traceback": [
      "\u001b[1;31m---------------------------------------------------------------------------\u001b[0m",
      "\u001b[1;31mNameError\u001b[0m                                 Traceback (most recent call last)",
      "Cell \u001b[1;32mIn[89], line 6\u001b[0m\n\u001b[0;32m      4\u001b[0m grid \u001b[38;5;241m=\u001b[39m \u001b[38;5;28mdict\u001b[39m(solver\u001b[38;5;241m=\u001b[39msolvers,penalty\u001b[38;5;241m=\u001b[39mpenalty,C\u001b[38;5;241m=\u001b[39mc_values)\n\u001b[0;32m      5\u001b[0m cv \u001b[38;5;241m=\u001b[39m RepeatedStratifiedKFold(n_splits\u001b[38;5;241m=\u001b[39m\u001b[38;5;241m10\u001b[39m, n_repeats\u001b[38;5;241m=\u001b[39m\u001b[38;5;241m3\u001b[39m, random_state\u001b[38;5;241m=\u001b[39m\u001b[38;5;241m1\u001b[39m)\n\u001b[1;32m----> 6\u001b[0m grid_search \u001b[38;5;241m=\u001b[39m GridSearchCV(estimator\u001b[38;5;241m=\u001b[39m\u001b[43mlogReg\u001b[49m, param_grid\u001b[38;5;241m=\u001b[39mgrid, n_jobs\u001b[38;5;241m=\u001b[39m\u001b[38;5;241m-\u001b[39m\u001b[38;5;241m1\u001b[39m, cv\u001b[38;5;241m=\u001b[39mcv, scoring\u001b[38;5;241m=\u001b[39m\u001b[38;5;124m'\u001b[39m\u001b[38;5;124maccuracy\u001b[39m\u001b[38;5;124m'\u001b[39m,error_score\u001b[38;5;241m=\u001b[39m\u001b[38;5;241m0\u001b[39m)\n\u001b[0;32m      8\u001b[0m \u001b[38;5;66;03m# Encode categorical variables\u001b[39;00m\n\u001b[0;32m      9\u001b[0m encoder \u001b[38;5;241m=\u001b[39m OneHotEncoder()\n",
      "\u001b[1;31mNameError\u001b[0m: name 'logReg' is not defined"
     ]
    }
   ],
   "source": [
    "solvers = ['newton-cg', 'lbfgs', 'liblinear']\n",
    "penalty = ['l2']\n",
    "c_values = [100, 10, 1.0, 0.1, 0.01]\n",
    "grid = dict(solver=solvers,penalty=penalty,C=c_values)\n",
    "cv = RepeatedStratifiedKFold(n_splits=10, n_repeats=3, random_state=1)\n",
    "grid_search = GridSearchCV(estimator=logReg, param_grid=grid, n_jobs=-1, cv=cv, scoring='accuracy',error_score=0)\n",
    "\n",
    "# Encode categorical variables\n",
    "encoder = OneHotEncoder()\n",
    "X_encoded = encoder.fit_transform(X)\n",
    "\n",
    "# Fit the logistic regression model with the encoded data\n",
    "grid_result = grid_search.fit(X_encoded, y)"
   ]
  },
  {
   "cell_type": "code",
   "execution_count": 16,
   "metadata": {},
   "outputs": [],
   "source": [
    "print(\"Best: %f using %s\" % (grid_result.best_score_, grid_result.best_params_))\n",
    "means = grid_result.cv_results_['mean_test_score']\n",
    "stds = grid_result.cv_results_['std_test_score']\n",
    "params = grid_result.cv_results_['params']\n",
    "for mean, stdev, param in zip(means, stds, params):\n",
    "  print(\"%f (%f) with: %r\" % (mean, stdev, param))"
   ]
  },
  {
   "cell_type": "code",
   "execution_count": null,
   "metadata": {},
   "outputs": [
    {
     "name": "stdout",
     "output_type": "stream",
     "text": [
      "Best: 0.997489 using {'alpha': 0.1}\n",
      "0.997489 (0.004503) with: {'alpha': 0.1}\n",
      "0.997489 (0.004503) with: {'alpha': 0.2}\n",
      "0.997489 (0.004503) with: {'alpha': 0.3}\n",
      "0.997489 (0.004503) with: {'alpha': 0.4}\n",
      "0.997489 (0.004503) with: {'alpha': 0.5}\n",
      "0.997489 (0.004503) with: {'alpha': 0.6}\n",
      "0.997489 (0.004503) with: {'alpha': 0.7}\n",
      "0.997489 (0.004503) with: {'alpha': 0.8}\n",
      "0.997489 (0.004503) with: {'alpha': 0.9}\n",
      "0.997489 (0.004503) with: {'alpha': 1.0}\n"
     ]
    }
   ],
   "source": [
    "model = RidgeClassifier()\n",
    "alpha = [0.1, 0.2, 0.3, 0.4, 0.5, 0.6, 0.7, 0.8, 0.9, 1.0]\n",
    "# define grid search\n",
    "grid = dict(alpha=alpha)\n",
    "cv = RepeatedStratifiedKFold(n_splits=10, n_repeats=3, random_state=1)\n",
    "grid_search = GridSearchCV(estimator=model, param_grid=grid, n_jobs=-1, cv=cv, scoring='accuracy',error_score=0)\n",
    "grid_result = grid_search.fit(X, y)\n",
    "# summarize results\n",
    "print(\"Best: %f using %s\" % (grid_result.best_score_, grid_result.best_params_))\n",
    "means = grid_result.cv_results_['mean_test_score']\n",
    "stds = grid_result.cv_results_['std_test_score']\n",
    "params = grid_result.cv_results_['params']\n",
    "for mean, stdev, param in zip(means, stds, params):\n",
    "    print(\"%f (%f) with: %r\" % (mean, stdev, param))"
   ]
  },
  {
   "cell_type": "code",
   "execution_count": null,
   "metadata": {},
   "outputs": [
    {
     "ename": "ValueError",
     "evalue": "Found input variables with inconsistent numbers of samples: [438, 292]",
     "output_type": "error",
     "traceback": [
      "\u001b[1;31m---------------------------------------------------------------------------\u001b[0m",
      "\u001b[1;31mValueError\u001b[0m                                Traceback (most recent call last)",
      "Cell \u001b[1;32mIn[93], line 2\u001b[0m\n\u001b[0;32m      1\u001b[0m ypred \u001b[38;5;241m=\u001b[39m grid_search\u001b[38;5;241m.\u001b[39mpredict(X_test)\n\u001b[1;32m----> 2\u001b[0m \u001b[38;5;28mprint\u001b[39m(\u001b[43mclassification_report\u001b[49m\u001b[43m(\u001b[49m\u001b[43my_test\u001b[49m\u001b[43m,\u001b[49m\u001b[43my_pred\u001b[49m\u001b[43m)\u001b[49m)\n\u001b[0;32m      4\u001b[0m logit_roc_auc \u001b[38;5;241m=\u001b[39m roc_auc_score(y_test, logReg\u001b[38;5;241m.\u001b[39mpredict(X_test[numerics]))\n\u001b[0;32m      5\u001b[0m fpr, tpr, thresholds \u001b[38;5;241m=\u001b[39m roc_curve(y_test, logReg\u001b[38;5;241m.\u001b[39mpredict_proba(X_test[numerics])[:,\u001b[38;5;241m1\u001b[39m])\n",
      "File \u001b[1;32mc:\\Users\\estra\\AppData\\Local\\Programs\\Python\\Python312\\Lib\\site-packages\\sklearn\\utils\\_param_validation.py:213\u001b[0m, in \u001b[0;36mvalidate_params.<locals>.decorator.<locals>.wrapper\u001b[1;34m(*args, **kwargs)\u001b[0m\n\u001b[0;32m    207\u001b[0m \u001b[38;5;28;01mtry\u001b[39;00m:\n\u001b[0;32m    208\u001b[0m     \u001b[38;5;28;01mwith\u001b[39;00m config_context(\n\u001b[0;32m    209\u001b[0m         skip_parameter_validation\u001b[38;5;241m=\u001b[39m(\n\u001b[0;32m    210\u001b[0m             prefer_skip_nested_validation \u001b[38;5;129;01mor\u001b[39;00m global_skip_validation\n\u001b[0;32m    211\u001b[0m         )\n\u001b[0;32m    212\u001b[0m     ):\n\u001b[1;32m--> 213\u001b[0m         \u001b[38;5;28;01mreturn\u001b[39;00m \u001b[43mfunc\u001b[49m\u001b[43m(\u001b[49m\u001b[38;5;241;43m*\u001b[39;49m\u001b[43margs\u001b[49m\u001b[43m,\u001b[49m\u001b[43m \u001b[49m\u001b[38;5;241;43m*\u001b[39;49m\u001b[38;5;241;43m*\u001b[39;49m\u001b[43mkwargs\u001b[49m\u001b[43m)\u001b[49m\n\u001b[0;32m    214\u001b[0m \u001b[38;5;28;01mexcept\u001b[39;00m InvalidParameterError \u001b[38;5;28;01mas\u001b[39;00m e:\n\u001b[0;32m    215\u001b[0m     \u001b[38;5;66;03m# When the function is just a wrapper around an estimator, we allow\u001b[39;00m\n\u001b[0;32m    216\u001b[0m     \u001b[38;5;66;03m# the function to delegate validation to the estimator, but we replace\u001b[39;00m\n\u001b[0;32m    217\u001b[0m     \u001b[38;5;66;03m# the name of the estimator by the name of the function in the error\u001b[39;00m\n\u001b[0;32m    218\u001b[0m     \u001b[38;5;66;03m# message to avoid confusion.\u001b[39;00m\n\u001b[0;32m    219\u001b[0m     msg \u001b[38;5;241m=\u001b[39m re\u001b[38;5;241m.\u001b[39msub(\n\u001b[0;32m    220\u001b[0m         \u001b[38;5;124mr\u001b[39m\u001b[38;5;124m\"\u001b[39m\u001b[38;5;124mparameter of \u001b[39m\u001b[38;5;124m\\\u001b[39m\u001b[38;5;124mw+ must be\u001b[39m\u001b[38;5;124m\"\u001b[39m,\n\u001b[0;32m    221\u001b[0m         \u001b[38;5;124mf\u001b[39m\u001b[38;5;124m\"\u001b[39m\u001b[38;5;124mparameter of \u001b[39m\u001b[38;5;132;01m{\u001b[39;00mfunc\u001b[38;5;241m.\u001b[39m\u001b[38;5;18m__qualname__\u001b[39m\u001b[38;5;132;01m}\u001b[39;00m\u001b[38;5;124m must be\u001b[39m\u001b[38;5;124m\"\u001b[39m,\n\u001b[0;32m    222\u001b[0m         \u001b[38;5;28mstr\u001b[39m(e),\n\u001b[0;32m    223\u001b[0m     )\n",
      "File \u001b[1;32mc:\\Users\\estra\\AppData\\Local\\Programs\\Python\\Python312\\Lib\\site-packages\\sklearn\\metrics\\_classification.py:2592\u001b[0m, in \u001b[0;36mclassification_report\u001b[1;34m(y_true, y_pred, labels, target_names, sample_weight, digits, output_dict, zero_division)\u001b[0m\n\u001b[0;32m   2457\u001b[0m \u001b[38;5;129m@validate_params\u001b[39m(\n\u001b[0;32m   2458\u001b[0m     {\n\u001b[0;32m   2459\u001b[0m         \u001b[38;5;124m\"\u001b[39m\u001b[38;5;124my_true\u001b[39m\u001b[38;5;124m\"\u001b[39m: [\u001b[38;5;124m\"\u001b[39m\u001b[38;5;124marray-like\u001b[39m\u001b[38;5;124m\"\u001b[39m, \u001b[38;5;124m\"\u001b[39m\u001b[38;5;124msparse matrix\u001b[39m\u001b[38;5;124m\"\u001b[39m],\n\u001b[1;32m   (...)\u001b[0m\n\u001b[0;32m   2483\u001b[0m     zero_division\u001b[38;5;241m=\u001b[39m\u001b[38;5;124m\"\u001b[39m\u001b[38;5;124mwarn\u001b[39m\u001b[38;5;124m\"\u001b[39m,\n\u001b[0;32m   2484\u001b[0m ):\n\u001b[0;32m   2485\u001b[0m \u001b[38;5;250m    \u001b[39m\u001b[38;5;124;03m\"\"\"Build a text report showing the main classification metrics.\u001b[39;00m\n\u001b[0;32m   2486\u001b[0m \n\u001b[0;32m   2487\u001b[0m \u001b[38;5;124;03m    Read more in the :ref:`User Guide <classification_report>`.\u001b[39;00m\n\u001b[1;32m   (...)\u001b[0m\n\u001b[0;32m   2589\u001b[0m \u001b[38;5;124;03m    <BLANKLINE>\u001b[39;00m\n\u001b[0;32m   2590\u001b[0m \u001b[38;5;124;03m    \"\"\"\u001b[39;00m\n\u001b[1;32m-> 2592\u001b[0m     y_type, y_true, y_pred \u001b[38;5;241m=\u001b[39m \u001b[43m_check_targets\u001b[49m\u001b[43m(\u001b[49m\u001b[43my_true\u001b[49m\u001b[43m,\u001b[49m\u001b[43m \u001b[49m\u001b[43my_pred\u001b[49m\u001b[43m)\u001b[49m\n\u001b[0;32m   2594\u001b[0m     \u001b[38;5;28;01mif\u001b[39;00m labels \u001b[38;5;129;01mis\u001b[39;00m \u001b[38;5;28;01mNone\u001b[39;00m:\n\u001b[0;32m   2595\u001b[0m         labels \u001b[38;5;241m=\u001b[39m unique_labels(y_true, y_pred)\n",
      "File \u001b[1;32mc:\\Users\\estra\\AppData\\Local\\Programs\\Python\\Python312\\Lib\\site-packages\\sklearn\\metrics\\_classification.py:85\u001b[0m, in \u001b[0;36m_check_targets\u001b[1;34m(y_true, y_pred)\u001b[0m\n\u001b[0;32m     58\u001b[0m \u001b[38;5;28;01mdef\u001b[39;00m \u001b[38;5;21m_check_targets\u001b[39m(y_true, y_pred):\n\u001b[0;32m     59\u001b[0m \u001b[38;5;250m    \u001b[39m\u001b[38;5;124;03m\"\"\"Check that y_true and y_pred belong to the same classification task.\u001b[39;00m\n\u001b[0;32m     60\u001b[0m \n\u001b[0;32m     61\u001b[0m \u001b[38;5;124;03m    This converts multiclass or binary types to a common shape, and raises a\u001b[39;00m\n\u001b[1;32m   (...)\u001b[0m\n\u001b[0;32m     83\u001b[0m \u001b[38;5;124;03m    y_pred : array or indicator matrix\u001b[39;00m\n\u001b[0;32m     84\u001b[0m \u001b[38;5;124;03m    \"\"\"\u001b[39;00m\n\u001b[1;32m---> 85\u001b[0m     \u001b[43mcheck_consistent_length\u001b[49m\u001b[43m(\u001b[49m\u001b[43my_true\u001b[49m\u001b[43m,\u001b[49m\u001b[43m \u001b[49m\u001b[43my_pred\u001b[49m\u001b[43m)\u001b[49m\n\u001b[0;32m     86\u001b[0m     type_true \u001b[38;5;241m=\u001b[39m type_of_target(y_true, input_name\u001b[38;5;241m=\u001b[39m\u001b[38;5;124m\"\u001b[39m\u001b[38;5;124my_true\u001b[39m\u001b[38;5;124m\"\u001b[39m)\n\u001b[0;32m     87\u001b[0m     type_pred \u001b[38;5;241m=\u001b[39m type_of_target(y_pred, input_name\u001b[38;5;241m=\u001b[39m\u001b[38;5;124m\"\u001b[39m\u001b[38;5;124my_pred\u001b[39m\u001b[38;5;124m\"\u001b[39m)\n",
      "File \u001b[1;32mc:\\Users\\estra\\AppData\\Local\\Programs\\Python\\Python312\\Lib\\site-packages\\sklearn\\utils\\validation.py:430\u001b[0m, in \u001b[0;36mcheck_consistent_length\u001b[1;34m(*arrays)\u001b[0m\n\u001b[0;32m    428\u001b[0m uniques \u001b[38;5;241m=\u001b[39m np\u001b[38;5;241m.\u001b[39munique(lengths)\n\u001b[0;32m    429\u001b[0m \u001b[38;5;28;01mif\u001b[39;00m \u001b[38;5;28mlen\u001b[39m(uniques) \u001b[38;5;241m>\u001b[39m \u001b[38;5;241m1\u001b[39m:\n\u001b[1;32m--> 430\u001b[0m     \u001b[38;5;28;01mraise\u001b[39;00m \u001b[38;5;167;01mValueError\u001b[39;00m(\n\u001b[0;32m    431\u001b[0m         \u001b[38;5;124m\"\u001b[39m\u001b[38;5;124mFound input variables with inconsistent numbers of samples: \u001b[39m\u001b[38;5;132;01m%r\u001b[39;00m\u001b[38;5;124m\"\u001b[39m\n\u001b[0;32m    432\u001b[0m         \u001b[38;5;241m%\u001b[39m [\u001b[38;5;28mint\u001b[39m(l) \u001b[38;5;28;01mfor\u001b[39;00m l \u001b[38;5;129;01min\u001b[39;00m lengths]\n\u001b[0;32m    433\u001b[0m     )\n",
      "\u001b[1;31mValueError\u001b[0m: Found input variables with inconsistent numbers of samples: [438, 292]"
     ]
    }
   ],
   "source": [
    "ypred = grid_search.predict(X_test)\n",
    "print(classification_report(y_test,y_pred))\n",
    "\n",
    "logit_roc_auc = roc_auc_score(y_test, logReg.predict(X_test[numerics]))\n",
    "fpr, tpr, thresholds = roc_curve(y_test, logReg.predict_proba(X_test[numerics])[:,1])\n",
    "plt.figure()\n",
    "plt.plot(fpr, tpr, label='Regresión Logística (area = %0.2f)' % logit_roc_auc, color=\"steelblue\")\n",
    "plt.plot([0, 1], [0, 1],'r--')\n",
    "plt.xlim([0.0, 1.0])\n",
    "plt.ylim([0.0, 1.05])\n",
    "plt.xlabel('False Positive Rate')\n",
    "plt.ylabel('True Positive Rate')\n",
    "plt.title('Receiver operating characteristic')\n",
    "plt.legend(loc=\"lower right\")\n",
    "# plt.savefig('Log_ROC')\n",
    "plt.show()"
   ]
  },
  {
   "cell_type": "markdown",
   "metadata": {},
   "source": [
    "7. Haga un tuneo del modelo para determinar los mejores parámetros, recuerde que los modelos de regresión logística se pueden regularizar como los de regresión lineal.\n"
   ]
  },
  {
   "cell_type": "code",
   "execution_count": 4,
   "metadata": {},
   "outputs": [
    {
     "ename": "NameError",
     "evalue": "name 'LogisticRegression' is not defined",
     "output_type": "error",
     "traceback": [
      "\u001b[1;31m---------------------------------------------------------------------------\u001b[0m",
      "\u001b[1;31mNameError\u001b[0m                                 Traceback (most recent call last)",
      "Cell \u001b[1;32mIn[4], line 8\u001b[0m\n\u001b[0;32m      2\u001b[0m param_grid \u001b[38;5;241m=\u001b[39m {\n\u001b[0;32m      3\u001b[0m     \u001b[38;5;124m'\u001b[39m\u001b[38;5;124mC\u001b[39m\u001b[38;5;124m'\u001b[39m: [\u001b[38;5;241m0.001\u001b[39m, \u001b[38;5;241m0.01\u001b[39m, \u001b[38;5;241m0.1\u001b[39m, \u001b[38;5;241m1\u001b[39m, \u001b[38;5;241m10\u001b[39m, \u001b[38;5;241m100\u001b[39m],  \u001b[38;5;66;03m# Parámetro de regularización\u001b[39;00m\n\u001b[0;32m      4\u001b[0m     \u001b[38;5;124m'\u001b[39m\u001b[38;5;124mpenalty\u001b[39m\u001b[38;5;124m'\u001b[39m: [\u001b[38;5;124m'\u001b[39m\u001b[38;5;124ml1\u001b[39m\u001b[38;5;124m'\u001b[39m, \u001b[38;5;124m'\u001b[39m\u001b[38;5;124ml2\u001b[39m\u001b[38;5;124m'\u001b[39m]  \u001b[38;5;66;03m# Tipo de regularización\u001b[39;00m\n\u001b[0;32m      5\u001b[0m }\n\u001b[0;32m      7\u001b[0m \u001b[38;5;66;03m# Instancia el modelo de regresión logística\u001b[39;00m\n\u001b[1;32m----> 8\u001b[0m logistic_regression \u001b[38;5;241m=\u001b[39m \u001b[43mLogisticRegression\u001b[49m(solver\u001b[38;5;241m=\u001b[39m\u001b[38;5;124m'\u001b[39m\u001b[38;5;124mliblinear\u001b[39m\u001b[38;5;124m'\u001b[39m)\n\u001b[0;32m     10\u001b[0m \u001b[38;5;66;03m# Utiliza GridSearchCV para encontrar los mejores hiperparámetros\u001b[39;00m\n\u001b[0;32m     11\u001b[0m grid_search \u001b[38;5;241m=\u001b[39m GridSearchCV(logistic_regression, param_grid, cv\u001b[38;5;241m=\u001b[39m\u001b[38;5;241m5\u001b[39m, scoring\u001b[38;5;241m=\u001b[39m\u001b[38;5;124m'\u001b[39m\u001b[38;5;124maccuracy\u001b[39m\u001b[38;5;124m'\u001b[39m)\n",
      "\u001b[1;31mNameError\u001b[0m: name 'LogisticRegression' is not defined"
     ]
    }
   ],
   "source": [
    "# Define los hiperparámetros que deseas ajustar\n",
    "param_grid = {\n",
    "    'C': [0.001, 0.01, 0.1, 1, 10, 100],  # Parámetro de regularización\n",
    "    'penalty': ['l1', 'l2']  # Tipo de regularización\n",
    "}\n",
    "\n",
    "# Instancia el modelo de regresión logística\n",
    "logistic_regression = LogisticRegression(solver='liblinear')\n",
    "\n",
    "# Utiliza GridSearchCV para encontrar los mejores hiperparámetros\n",
    "grid_search = GridSearchCV(logistic_regression, param_grid, cv=5, scoring='accuracy')\n",
    "grid_search.fit(X_train, y_train)\n",
    "\n",
    "# Muestra los mejores parámetros encontrados\n",
    "print(\"Mejores parámetros:\", grid_search.best_params_)\n",
    "\n",
    "# Evalúa el modelo con los mejores parámetros en los datos de prueba\n",
    "y_pred = grid_search.predict(X_test)\n",
    "print(\"Informe de clasificación:\")\n",
    "print(classification_report(y_test, y_pred))\n"
   ]
  },
  {
   "cell_type": "markdown",
   "metadata": {},
   "source": [
    "8. Haga un análisis de la eficiencia del algoritmo usando una matriz de confusión. Tenga en cuenta la efectividad, donde el algoritmo se equivocó más, donde se equivocó menos y la importancia que tienen los errores, el tiempo y la memoria consumida. Para esto último puede usar “profvis” si trabaja con R y “cProfile” en Python."
   ]
  },
  {
   "cell_type": "code",
   "execution_count": 1,
   "metadata": {},
   "outputs": [
    {
     "ename": "KeyError",
     "evalue": "'PriceCategory'",
     "output_type": "error",
     "traceback": [
      "\u001b[1;31m---------------------------------------------------------------------------\u001b[0m",
      "\u001b[1;31mKeyError\u001b[0m                                  Traceback (most recent call last)",
      "File \u001b[1;32mc:\\Users\\estra\\AppData\\Local\\Programs\\Python\\Python312\\Lib\\site-packages\\pandas\\core\\indexes\\base.py:3802\u001b[0m, in \u001b[0;36mIndex.get_loc\u001b[1;34m(self, key)\u001b[0m\n\u001b[0;32m   3801\u001b[0m \u001b[38;5;28;01mtry\u001b[39;00m:\n\u001b[1;32m-> 3802\u001b[0m     \u001b[38;5;28;01mreturn\u001b[39;00m \u001b[38;5;28;43mself\u001b[39;49m\u001b[38;5;241;43m.\u001b[39;49m\u001b[43m_engine\u001b[49m\u001b[38;5;241;43m.\u001b[39;49m\u001b[43mget_loc\u001b[49m\u001b[43m(\u001b[49m\u001b[43mcasted_key\u001b[49m\u001b[43m)\u001b[49m\n\u001b[0;32m   3803\u001b[0m \u001b[38;5;28;01mexcept\u001b[39;00m \u001b[38;5;167;01mKeyError\u001b[39;00m \u001b[38;5;28;01mas\u001b[39;00m err:\n",
      "File \u001b[1;32mindex.pyx:153\u001b[0m, in \u001b[0;36mpandas._libs.index.IndexEngine.get_loc\u001b[1;34m()\u001b[0m\n",
      "File \u001b[1;32mindex.pyx:182\u001b[0m, in \u001b[0;36mpandas._libs.index.IndexEngine.get_loc\u001b[1;34m()\u001b[0m\n",
      "File \u001b[1;32mpandas\\\\_libs\\\\hashtable_class_helper.pxi:7081\u001b[0m, in \u001b[0;36mpandas._libs.hashtable.PyObjectHashTable.get_item\u001b[1;34m()\u001b[0m\n",
      "File \u001b[1;32mpandas\\\\_libs\\\\hashtable_class_helper.pxi:7089\u001b[0m, in \u001b[0;36mpandas._libs.hashtable.PyObjectHashTable.get_item\u001b[1;34m()\u001b[0m\n",
      "\u001b[1;31mKeyError\u001b[0m: 'PriceCategory'",
      "\nThe above exception was the direct cause of the following exception:\n",
      "\u001b[1;31mKeyError\u001b[0m                                  Traceback (most recent call last)",
      "Cell \u001b[1;32mIn[1], line 10\u001b[0m\n\u001b[0;32m      7\u001b[0m \u001b[38;5;28;01mimport\u001b[39;00m \u001b[38;5;21;01mcProfile\u001b[39;00m\n\u001b[0;32m      9\u001b[0m houses \u001b[38;5;241m=\u001b[39m pd\u001b[38;5;241m.\u001b[39mread_csv(\u001b[38;5;124m'\u001b[39m\u001b[38;5;124mtrain.csv\u001b[39m\u001b[38;5;124m'\u001b[39m)\n\u001b[1;32m---> 10\u001b[0m y \u001b[38;5;241m=\u001b[39m \u001b[43mhouses\u001b[49m\u001b[38;5;241;43m.\u001b[39;49m\u001b[43mcopy\u001b[49m\u001b[43m(\u001b[49m\u001b[43m)\u001b[49m\u001b[38;5;241;43m.\u001b[39;49m\u001b[43mpop\u001b[49m\u001b[43m(\u001b[49m\u001b[38;5;124;43m'\u001b[39;49m\u001b[38;5;124;43mPriceCategory\u001b[39;49m\u001b[38;5;124;43m'\u001b[39;49m\u001b[43m)\u001b[49m\n\u001b[0;32m     11\u001b[0m X \u001b[38;5;241m=\u001b[39m houses\n\u001b[0;32m     12\u001b[0m X_train, X_test, y_train, y_test \u001b[38;5;241m=\u001b[39m train_test_split(X, y, test_size\u001b[38;5;241m=\u001b[39m\u001b[38;5;241m0.2\u001b[39m, random_state\u001b[38;5;241m=\u001b[39m\u001b[38;5;241m42\u001b[39m)\n",
      "File \u001b[1;32mc:\\Users\\estra\\AppData\\Local\\Programs\\Python\\Python312\\Lib\\site-packages\\pandas\\core\\frame.py:5806\u001b[0m, in \u001b[0;36mDataFrame.pop\u001b[1;34m(self, item)\u001b[0m\n\u001b[0;32m   5765\u001b[0m \u001b[38;5;28;01mdef\u001b[39;00m \u001b[38;5;21mpop\u001b[39m(\u001b[38;5;28mself\u001b[39m, item: Hashable) \u001b[38;5;241m-\u001b[39m\u001b[38;5;241m>\u001b[39m Series:\n\u001b[0;32m   5766\u001b[0m \u001b[38;5;250m    \u001b[39m\u001b[38;5;124;03m\"\"\"\u001b[39;00m\n\u001b[0;32m   5767\u001b[0m \u001b[38;5;124;03m    Return item and drop from frame. Raise KeyError if not found.\u001b[39;00m\n\u001b[0;32m   5768\u001b[0m \n\u001b[1;32m   (...)\u001b[0m\n\u001b[0;32m   5804\u001b[0m \u001b[38;5;124;03m    3  monkey        NaN\u001b[39;00m\n\u001b[0;32m   5805\u001b[0m \u001b[38;5;124;03m    \"\"\"\u001b[39;00m\n\u001b[1;32m-> 5806\u001b[0m     \u001b[38;5;28;01mreturn\u001b[39;00m \u001b[38;5;28;43msuper\u001b[39;49m\u001b[43m(\u001b[49m\u001b[43m)\u001b[49m\u001b[38;5;241;43m.\u001b[39;49m\u001b[43mpop\u001b[49m\u001b[43m(\u001b[49m\u001b[43mitem\u001b[49m\u001b[38;5;241;43m=\u001b[39;49m\u001b[43mitem\u001b[49m\u001b[43m)\u001b[49m\n",
      "File \u001b[1;32mc:\\Users\\estra\\AppData\\Local\\Programs\\Python\\Python312\\Lib\\site-packages\\pandas\\core\\generic.py:946\u001b[0m, in \u001b[0;36mNDFrame.pop\u001b[1;34m(self, item)\u001b[0m\n\u001b[0;32m    945\u001b[0m \u001b[38;5;28;01mdef\u001b[39;00m \u001b[38;5;21mpop\u001b[39m(\u001b[38;5;28mself\u001b[39m, item: Hashable) \u001b[38;5;241m-\u001b[39m\u001b[38;5;241m>\u001b[39m Series \u001b[38;5;241m|\u001b[39m Any:\n\u001b[1;32m--> 946\u001b[0m     result \u001b[38;5;241m=\u001b[39m \u001b[38;5;28;43mself\u001b[39;49m\u001b[43m[\u001b[49m\u001b[43mitem\u001b[49m\u001b[43m]\u001b[49m\n\u001b[0;32m    947\u001b[0m     \u001b[38;5;28;01mdel\u001b[39;00m \u001b[38;5;28mself\u001b[39m[item]\n\u001b[0;32m    949\u001b[0m     \u001b[38;5;28;01mreturn\u001b[39;00m result\n",
      "File \u001b[1;32mc:\\Users\\estra\\AppData\\Local\\Programs\\Python\\Python312\\Lib\\site-packages\\pandas\\core\\frame.py:4090\u001b[0m, in \u001b[0;36mDataFrame.__getitem__\u001b[1;34m(self, key)\u001b[0m\n\u001b[0;32m   4088\u001b[0m \u001b[38;5;28;01mif\u001b[39;00m \u001b[38;5;28mself\u001b[39m\u001b[38;5;241m.\u001b[39mcolumns\u001b[38;5;241m.\u001b[39mnlevels \u001b[38;5;241m>\u001b[39m \u001b[38;5;241m1\u001b[39m:\n\u001b[0;32m   4089\u001b[0m     \u001b[38;5;28;01mreturn\u001b[39;00m \u001b[38;5;28mself\u001b[39m\u001b[38;5;241m.\u001b[39m_getitem_multilevel(key)\n\u001b[1;32m-> 4090\u001b[0m indexer \u001b[38;5;241m=\u001b[39m \u001b[38;5;28;43mself\u001b[39;49m\u001b[38;5;241;43m.\u001b[39;49m\u001b[43mcolumns\u001b[49m\u001b[38;5;241;43m.\u001b[39;49m\u001b[43mget_loc\u001b[49m\u001b[43m(\u001b[49m\u001b[43mkey\u001b[49m\u001b[43m)\u001b[49m\n\u001b[0;32m   4091\u001b[0m \u001b[38;5;28;01mif\u001b[39;00m is_integer(indexer):\n\u001b[0;32m   4092\u001b[0m     indexer \u001b[38;5;241m=\u001b[39m [indexer]\n",
      "File \u001b[1;32mc:\\Users\\estra\\AppData\\Local\\Programs\\Python\\Python312\\Lib\\site-packages\\pandas\\core\\indexes\\base.py:3809\u001b[0m, in \u001b[0;36mIndex.get_loc\u001b[1;34m(self, key)\u001b[0m\n\u001b[0;32m   3804\u001b[0m     \u001b[38;5;28;01mif\u001b[39;00m \u001b[38;5;28misinstance\u001b[39m(casted_key, \u001b[38;5;28mslice\u001b[39m) \u001b[38;5;129;01mor\u001b[39;00m (\n\u001b[0;32m   3805\u001b[0m         \u001b[38;5;28misinstance\u001b[39m(casted_key, abc\u001b[38;5;241m.\u001b[39mIterable)\n\u001b[0;32m   3806\u001b[0m         \u001b[38;5;129;01mand\u001b[39;00m \u001b[38;5;28many\u001b[39m(\u001b[38;5;28misinstance\u001b[39m(x, \u001b[38;5;28mslice\u001b[39m) \u001b[38;5;28;01mfor\u001b[39;00m x \u001b[38;5;129;01min\u001b[39;00m casted_key)\n\u001b[0;32m   3807\u001b[0m     ):\n\u001b[0;32m   3808\u001b[0m         \u001b[38;5;28;01mraise\u001b[39;00m InvalidIndexError(key)\n\u001b[1;32m-> 3809\u001b[0m     \u001b[38;5;28;01mraise\u001b[39;00m \u001b[38;5;167;01mKeyError\u001b[39;00m(key) \u001b[38;5;28;01mfrom\u001b[39;00m \u001b[38;5;21;01merr\u001b[39;00m\n\u001b[0;32m   3810\u001b[0m \u001b[38;5;28;01mexcept\u001b[39;00m \u001b[38;5;167;01mTypeError\u001b[39;00m:\n\u001b[0;32m   3811\u001b[0m     \u001b[38;5;66;03m# If we have a listlike key, _check_indexing_error will raise\u001b[39;00m\n\u001b[0;32m   3812\u001b[0m     \u001b[38;5;66;03m#  InvalidIndexError. Otherwise we fall through and re-raise\u001b[39;00m\n\u001b[0;32m   3813\u001b[0m     \u001b[38;5;66;03m#  the TypeError.\u001b[39;00m\n\u001b[0;32m   3814\u001b[0m     \u001b[38;5;28mself\u001b[39m\u001b[38;5;241m.\u001b[39m_check_indexing_error(key)\n",
      "\u001b[1;31mKeyError\u001b[0m: 'PriceCategory'"
     ]
    }
   ],
   "source": [
    "import pandas as pd\n",
    "from sklearn.model_selection import train_test_split\n",
    "from sklearn.tree import DecisionTreeClassifier\n",
    "from sklearn.metrics import confusion_matrix, accuracy_score, precision_score, recall_score, f1_score\n",
    "import seaborn as sb\n",
    "import matplotlib.pyplot as plt\n",
    "import cProfile\n",
    "\n",
    "houses = pd.read_csv('train.csv')\n",
    "y = houses.copy().pop('PriceCategory')\n",
    "X = houses\n",
    "X_train, X_test, y_train, y_test = train_test_split(X, y, test_size=0.2, random_state=42)\n",
    "\n",
    "clf = DecisionTreeClassifier(max_depth=6, random_state=42)\n",
    "clf.fit(X_train, y_train)\n",
    "\n",
    "y_pred = clf.predict(X_test)\n",
    "conf_matrix = confusion_matrix(y_test, y_pred)\n",
    "accuracy = accuracy_score(y_test, y_pred)\n",
    "precision = precision_score(y_test, y_pred, average=None)\n",
    "recall = recall_score(y_test, y_pred, average=None)\n",
    "f1 = f1_score(y_test, y_pred, average=None)\n",
    "\n",
    "sb.heatmap(\n",
    "  conf_matrix,\n",
    "  annot=True,\n",
    "  cmap=\"Blues\",\n",
    "  fmt=\"d\",\n",
    "  xticklabels=['Economic', 'Intermediate', 'Expensive'],\n",
    "  yticklabels=['Economic', 'Intermediate', 'Expensive']\n",
    ")\n",
    "plt.title('Clasification tree confussion matrix')\n",
    "plt.xlabel('Predicted Label')\n",
    "plt.ylabel('True Label')\n",
    "plt.show()\n",
    "\n",
    "cProfile.run('clf.fit(X_train, y_train)')\n",
    "\n"
   ]
  },
  {
   "cell_type": "markdown",
   "metadata": {},
   "source": [
    "10. Genere un buen modelo de regresión, use para esto la variable del precio de la casa directamente."
   ]
  },
  {
   "cell_type": "code",
   "execution_count": 4,
   "metadata": {},
   "outputs": [
    {
     "name": "stdout",
     "output_type": "stream",
     "text": [
      "RMSE: 44716.83044141539\n"
     ]
    },
    {
     "name": "stderr",
     "output_type": "stream",
     "text": [
      "c:\\Users\\halm9\\AppData\\Local\\Programs\\Python\\Python312\\Lib\\site-packages\\sklearn\\metrics\\_regression.py:483: FutureWarning: 'squared' is deprecated in version 1.4 and will be removed in 1.6. To calculate the root mean squared error, use the function'root_mean_squared_error'.\n",
      "  warnings.warn(\n"
     ]
    }
   ],
   "source": [
    "import pandas as pd\n",
    "from sklearn.model_selection import train_test_split\n",
    "from sklearn.linear_model import LinearRegression\n",
    "from sklearn.metrics import mean_squared_error\n",
    "\n",
    "# Cargar datos\n",
    "data = pd.read_csv('train.csv')\n",
    "X = data[['LotArea', 'YearBuilt', '1stFlrSF', '2ndFlrSF', 'FullBath', 'BedroomAbvGr', 'TotRmsAbvGrd']]\n",
    "y = data['SalePrice']\n",
    "\n",
    "# Dividir los datos\n",
    "X_train, X_test, y_train, y_test = train_test_split(X, y, test_size=0.2, random_state=42)\n",
    "\n",
    "# Crear y entrenar el modelo\n",
    "model = LinearRegression()\n",
    "model.fit(X_train, y_train)\n",
    "\n",
    "# Predicciones y evaluación\n",
    "predictions = model.predict(X_test)\n",
    "rmse = mean_squared_error(y_test, predictions, squared=False)\n",
    "print(f'RMSE: {rmse}')\n"
   ]
  }
 ],
 "metadata": {
  "kernelspec": {
   "display_name": "Python 3",
   "language": "python",
   "name": "python3"
  },
  "language_info": {
   "codemirror_mode": {
    "name": "ipython",
    "version": 3
   },
   "file_extension": ".py",
   "mimetype": "text/x-python",
   "name": "python",
   "nbconvert_exporter": "python",
   "pygments_lexer": "ipython3",
   "version": "3.12.1"
  }
 },
 "nbformat": 4,
 "nbformat_minor": 2
}
